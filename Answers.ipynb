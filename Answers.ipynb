{
  "nbformat": 4,
  "nbformat_minor": 0,
  "metadata": {
    "colab": {
      "provenance": [],
      "authorship_tag": "ABX9TyOKmQAns1/7PCydSxjLlN8/",
      "include_colab_link": true
    },
    "kernelspec": {
      "name": "python3",
      "display_name": "Python 3"
    },
    "language_info": {
      "name": "python"
    }
  },
  "cells": [
    {
      "cell_type": "markdown",
      "metadata": {
        "id": "view-in-github",
        "colab_type": "text"
      },
      "source": [
        "<a href=\"https://colab.research.google.com/github/prakashpawar4u/Ciphers/blob/main/Answers.ipynb\" target=\"_parent\"><img src=\"https://colab.research.google.com/assets/colab-badge.svg\" alt=\"Open In Colab\"/></a>"
      ]
    },
    {
      "cell_type": "code",
      "execution_count": 4,
      "metadata": {
        "colab": {
          "base_uri": "https://localhost:8080/"
        },
        "id": "SwxFsnFWOOG5",
        "outputId": "c704874b-910e-4f62-ea00-be0e47913ba8"
      },
      "outputs": [
        {
          "output_type": "stream",
          "name": "stdout",
          "text": [
            "Addition: 30\n",
            "Conditional: 8\n"
          ]
        }
      ],
      "source": [
        "#lambda\n",
        "ad = lambda x,y: x+y\n",
        "print(\"Addition:\",ad(10,20))\n",
        "\n",
        "mx= lambda x,y: x if x > y else y\n",
        "print(\"Conditional:\",mx(8,5))"
      ]
    },
    {
      "cell_type": "code",
      "source": [
        "#Map\n",
        "items = [1,2,3,4,5]\n",
        "l2 = list(range(10))\n",
        "squared = list(map(lambda x: x**2, items))\n",
        "print(squared)"
      ],
      "metadata": {
        "colab": {
          "base_uri": "https://localhost:8080/"
        },
        "id": "ZHgTmNRQUVW-",
        "outputId": "dd23efda-b835-41c3-8745-fe9e583ba36c"
      },
      "execution_count": 5,
      "outputs": [
        {
          "output_type": "stream",
          "name": "stdout",
          "text": [
            "[1, 4, 9, 16, 25]\n"
          ]
        }
      ]
    },
    {
      "cell_type": "code",
      "source": [
        "#filter\n",
        "number_list = range(-5,5)\n",
        "less_than_zero = list(filter(lambda x: x<0, number_list))\n",
        "print(less_than_zero)"
      ],
      "metadata": {
        "colab": {
          "base_uri": "https://localhost:8080/"
        },
        "id": "xSNUNROSVYRT",
        "outputId": "93ecd69c-c85a-4d08-bf50-1b77733d06e6"
      },
      "execution_count": 6,
      "outputs": [
        {
          "output_type": "stream",
          "name": "stdout",
          "text": [
            "[-5, -4, -3, -2, -1]\n"
          ]
        }
      ]
    },
    {
      "cell_type": "code",
      "source": [
        "#Reduce\n",
        "from functools import reduce\n",
        "n = [4,3,2,1]\n",
        "print(reduce(lambda x,y: x*y, n))"
      ],
      "metadata": {
        "colab": {
          "base_uri": "https://localhost:8080/"
        },
        "id": "O-cpl_X-VpBY",
        "outputId": "3567dcf4-96ae-422e-e3ec-89f972151f1a"
      },
      "execution_count": 8,
      "outputs": [
        {
          "output_type": "stream",
          "name": "stdout",
          "text": [
            "24\n"
          ]
        }
      ]
    },
    {
      "cell_type": "code",
      "source": [
        "#Transpose\n",
        "l = [[1,2,3,4],[5,6,7,8]]\n",
        "print(\"Before Transpose\", l)\n",
        "print(list(map(list, zip(*l))))"
      ],
      "metadata": {
        "colab": {
          "base_uri": "https://localhost:8080/"
        },
        "id": "fN2_NNQrV7Vw",
        "outputId": "67088be7-3b45-4d48-e598-aa0a9c047e7f"
      },
      "execution_count": 9,
      "outputs": [
        {
          "output_type": "stream",
          "name": "stdout",
          "text": [
            "Before Transpose [[1, 2, 3, 4], [5, 6, 7, 8]]\n",
            "[[1, 5], [2, 6], [3, 7], [4, 8]]\n"
          ]
        }
      ]
    },
    {
      "cell_type": "code",
      "source": [],
      "metadata": {
        "id": "YetVfe1sWMHX"
      },
      "execution_count": null,
      "outputs": []
    }
  ]
}