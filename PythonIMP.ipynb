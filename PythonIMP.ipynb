{
  "nbformat": 4,
  "nbformat_minor": 0,
  "metadata": {
    "colab": {
      "provenance": [],
      "authorship_tag": "ABX9TyOFfy8SVscoS9/QufMuGL/o",
      "include_colab_link": true
    },
    "kernelspec": {
      "name": "python3",
      "display_name": "Python 3"
    },
    "language_info": {
      "name": "python"
    }
  },
  "cells": [
    {
      "cell_type": "markdown",
      "metadata": {
        "id": "view-in-github",
        "colab_type": "text"
      },
      "source": [
        "<a href=\"https://colab.research.google.com/github/prakashpawar4u/Ciphers/blob/main/PythonIMP.ipynb\" target=\"_parent\"><img src=\"https://colab.research.google.com/assets/colab-badge.svg\" alt=\"Open In Colab\"/></a>"
      ]
    },
    {
      "cell_type": "code",
      "execution_count": null,
      "metadata": {
        "colab": {
          "base_uri": "https://localhost:8080/"
        },
        "id": "Da3sjD-qCX9R",
        "outputId": "43fe4d54-f258-43de-b383-585cb8faf4f3"
      },
      "outputs": [
        {
          "output_type": "stream",
          "name": "stdout",
          "text": [
            "2\n",
            "9\n"
          ]
        }
      ],
      "source": [
        "#sort list:\n",
        "l3 = [4,2,5,7,2,7,9,3]\n",
        "l3.sort()\n",
        "\n",
        "print(min(l3))\n",
        "print(max(l3))"
      ]
    },
    {
      "cell_type": "markdown",
      "source": [
        "# Tupple VS List:\n",
        "Literal\n",
        "someTuple = (1,2)\n",
        "someList  = [1,2]\n",
        "### Size\n",
        "\n",
        "a = tuple(range(1000))\n",
        "b = list(range(1000))\n",
        "\n",
        "a.__sizeof__() # 8024\n",
        "b.__sizeof__() # 9088\n",
        "Due to the smaller size of a tuple operation, it becomes a bit faster, but not that much to mention about until you have a huge number of elements.\n",
        "\n",
        "### Permitted operations\n",
        "b    = [1,2]   \n",
        "b[0] = 3       # [3, 2]\n",
        "\n",
        "a    = (1,2)\n",
        "a[0] = 3       # Error\n",
        "That also means that you can't delete an element or sort a tuple.\n",
        "However, you could add new element to both list and tuple with the only difference that you will change id of the tuple by adding element\n",
        "a     = (1,2)\n",
        "b     = [1,2]  \n",
        "\n",
        "id(a)          # 140230916716520\n",
        "id(b)          # 748527696\n",
        "\n",
        "a   += (3,)    # (1, 2, 3)\n",
        "b   += [3]     # [1, 2, 3]\n",
        "\n",
        "id(a)          # 140230916878160\n",
        "id(b)          # 748527696\n",
        "\n",
        "### Usage\n",
        "As a list is mutable, it can't be used as a key in a dictionary, whereas a tuple can be used.\n",
        "a    = (1,2)\n",
        "b    = [1,2]\n",
        "\n",
        "c = {a: 1}     # OK\n",
        "c = {b: 1}     # Error\n",
        "+++++++++++++++++++++++++++++++++++++++++++++++++++++++++++++++++++++++++++++++++++++++++++++++++++++++++++++++++++++++++++++++++++++++\n",
        "# Range vs XRange()\n",
        "\n",
        "range() vs xrange() in Python\n",
        "1.3\n",
        "range() and xrange() are two functions that could be used to iterate a certain number of times in for loops in Python. In Python 3, there is no xrange , but the range function behaves like xrange in Python 2.If you want to write code that will run on both Python 2 and Python 3, you should use range().\n",
        "\n",
        "range() – This returns a list of numbers created using range() function.\n",
        "xrange() – This function returns the generator object that can be used to display numbers only by looping. Only particular range is displayed on demand and hence called “lazy evaluation“.\n",
        "\n",
        "Both are implemented in different ways and have different characteristics associated with them. The points of comparisons are:\n",
        "\n",
        "Return Type\n",
        "Memory\n",
        "Operation Usage\n",
        "Speed\n",
        "Return Type\n",
        "range() returns – the list as return type.\n",
        "xrange() returns – xrange() object.\n",
        "\n",
        "\n",
        "### Return Type\n",
        "Python code to demonstrate range() vs xrange() on  basis of return type\n",
        "\n",
        "initializing a with range()\n",
        "a = range(1,10000)\n",
        "\n",
        "initializing a with xrange()\n",
        "x = xrange(1,10000)\n",
        "\n",
        "testing the type of a\n",
        "print (\"The return type of range() is : \")\n",
        "print (type(a))\n",
        "\n",
        "testing the type of x\n",
        "print (\"The return type of xrange() is : \")\n",
        "print (type(x))\n",
        "Run on IDE\n",
        "Output:\n",
        "\n",
        "The return type of range() is :\n",
        "\n",
        "The return type of xrange() is :\n",
        "\n",
        "### Memory\n",
        "The variable storing the range created by range() takes more memory as compared to variable storing the range using xrange().\n",
        "The basic reason for this is the return type of range() is list and xrange() is xrange() object.\n",
        "\n",
        "on  basis of memory\n",
        "import sys\n",
        "initializing a with range()\n",
        "a = range(1,10000)\n",
        "\n",
        "initializing a with xrange()\n",
        "x = xrange(1,10000)\n",
        "\n",
        "### testing the size of a\n",
        "range() takes more memory\n",
        "print (\"The size allotted using range() is : \")\n",
        "print (sys.getsizeof(a))\n",
        "\n",
        "### testing the size of a\n",
        "range() takes less memory\n",
        "print (\"The size allotted using xrange() is : \")\n",
        "print (sys.getsizeof(x))\n",
        "Run on IDE\n",
        "Output:\n",
        "\n",
        "The size allotted using range() is :\n",
        "80064\n",
        "The size allotted using xrange() is :\n",
        "40\n",
        "Operations usage\n",
        "As range() returns the list, all the operations that can be applied on the list can be used on it. On the other hand,\n",
        "as xrange() returns the xrange object, operations associated to list cannot be applied on them, hence a disadvantage.\n",
        "\n",
        "### Python code to demonstrate range() vs xrange()\n",
        "on  basis of operations usage\n",
        "\n",
        "initializing a with range()\n",
        "a = range(1,6)\n",
        "\n",
        "initializing a with xrange()\n",
        "x = xrange(1,6)\n",
        "\n",
        "testing usage of slice operation on range()\n",
        "prints without error\n",
        "print (\"The list after slicing using range is : \")\n",
        "print (a[2:5])\n",
        "\n",
        "testing usage of slice operation on xrange()\n",
        "raises error\n",
        "print (\"The list after slicing using xrange is : \")\n",
        "print (x[2:5])\n",
        "Run on IDE\n",
        "Error:\n",
        "\n",
        "Traceback (most recent call last):\n",
        "  File \"1f2d94c59aea6aed795b05a19e44474d.py\", line 18, in\n",
        "    print (x[2:5])\n",
        "TypeError: sequence index must be integer, not 'slice'\n",
        "Output:\n",
        "\n",
        "The list after slicing using range is :\n",
        "[3, 4, 5]\n",
        "The list after slicing using xrange is :\n",
        "\n",
        "\n",
        "### Speed\n",
        "Because of the fact that xrange() evaluates only the generator object containing only the values that are required by lazy evaluation,\n",
        "therefore is faster in implementation than range().\n",
        "\n",
        "### Important Points:\n",
        "If you want to write code that will run on both Python 2 and Python 3, use range() as the xrange funtion is deprecated in Python 3\n",
        "range() is faster if iterating over the same sequence multiple times.\n",
        "xrange() has to reconstruct the integer object every time, but range() will have real integer objects.\n",
        "(It will always perform worse in terms of memory however)"
      ],
      "metadata": {
        "id": "WnOPfBPUUDP7"
      }
    },
    {
      "cell_type": "markdown",
      "source": [
        "List comprehensions perform better here because you don’t need to load the append attribute off of the list (loop program, bytecode\n",
        "28) and call it as a function (loop program, bytecode 38). Instead, in a comprehension, a specialized LIST_APPEND bytecode is\n",
        "generated for a fast append onto the result list (comprehension program, bytecode 33).\n"
      ],
      "metadata": {
        "id": "DKSnvXl_VbSc"
      }
    },
    {
      "cell_type": "markdown",
      "source": [
        "# LAMBDA:\n",
        "simple one liner function:\n",
        "lambda x,y: x+y"
      ],
      "metadata": {
        "id": "WCms_DvEVg59"
      }
    },
    {
      "cell_type": "code",
      "source": [
        "mx= lambda x,y: x if x > y else y\n",
        "print(mx(8,5))"
      ],
      "metadata": {
        "colab": {
          "base_uri": "https://localhost:8080/"
        },
        "id": "kkNNsM6IT-WS",
        "outputId": "066dec46-2eb9-4c43-a471-a95852ca33c4"
      },
      "execution_count": null,
      "outputs": [
        {
          "output_type": "stream",
          "name": "stdout",
          "text": [
            "8\n"
          ]
        }
      ]
    },
    {
      "cell_type": "code",
      "source": [
        "# MAP\n",
        "# apply same functions to each element of a sequence\n",
        "\n",
        "items = [1,2,3,4,5,6]\n",
        "squared = list(map(lambda x : x**2, items))\n",
        "\n",
        "#count no of words starting with S:\n",
        "inp = \"this is the input String, In this string words should start with s\"\n",
        "l = inp.split(' ')\n",
        "print(l)\n",
        "\n",
        "count_word = list(map(lambda x: x[0]==\"s\" or x[0]==\"S\", l)).count(True)\n",
        "print(count_word)"
      ],
      "metadata": {
        "colab": {
          "base_uri": "https://localhost:8080/"
        },
        "id": "eT2fbnNAT-ey",
        "outputId": "91b05d6a-3896-45f2-95e6-7f0f5073f4d2"
      },
      "execution_count": null,
      "outputs": [
        {
          "output_type": "stream",
          "name": "stdout",
          "text": [
            "['this', 'is', 'the', 'input', 'String,', 'In', 'this', 'string', 'words', 'should', 'start', 'with', 's']\n",
            "5\n"
          ]
        }
      ]
    },
    {
      "cell_type": "code",
      "source": [
        "# Filter:\n",
        "\n",
        "number_list = range(-5, 5)\n",
        "less_than_zero = list(filter(lambda x: x < 0, number_list))\n",
        "print(less_than_zero)"
      ],
      "metadata": {
        "colab": {
          "base_uri": "https://localhost:8080/"
        },
        "id": "7ixczNjXT-hp",
        "outputId": "43b29ee8-0b57-4a05-8f67-426844abcee1"
      },
      "execution_count": null,
      "outputs": [
        {
          "output_type": "stream",
          "name": "stdout",
          "text": [
            "[-5, -4, -3, -2, -1]\n"
          ]
        }
      ]
    },
    {
      "cell_type": "code",
      "source": [
        "# Reduce:\n",
        "#uses results of operation as first param of next operation.\n",
        "#returns an item, not list.\n",
        "n=[4,3,2,1]\n",
        "\n",
        "from functools import reduce\n",
        "print(reduce(lambda x, y: x*y, n))\n",
        "\n",
        "product = reduce((lambda x,y: x*y), [44,5,6,7,43])\n",
        "print(product)\n"
      ],
      "metadata": {
        "colab": {
          "base_uri": "https://localhost:8080/"
        },
        "id": "oOkjwXM7T-k1",
        "outputId": "62a13e8f-aae9-4bf1-87c4-65a20a046d4b"
      },
      "execution_count": null,
      "outputs": [
        {
          "output_type": "stream",
          "name": "stdout",
          "text": [
            "24\n",
            "397320\n"
          ]
        }
      ]
    },
    {
      "cell_type": "code",
      "source": [
        "# Zip\n",
        "# MAP 2 lists\n",
        "keys = ['red', 'green', 'blue']\n",
        "values = ['#FF0000','#008000', '#0000FF']\n",
        "color_dictionary = dict(zip(keys, values))\n",
        "print(\"ITEMS\",color_dictionary.items())\n",
        "print(\"KEYS\", color_dictionary.keys())\n",
        "print(\"VALUES\", color_dictionary.values())"
      ],
      "metadata": {
        "colab": {
          "base_uri": "https://localhost:8080/"
        },
        "id": "9cMWHOg4T-pK",
        "outputId": "50bb70aa-d6a8-4836-b53c-54696f17700a"
      },
      "execution_count": null,
      "outputs": [
        {
          "output_type": "stream",
          "name": "stdout",
          "text": [
            "ITEMS dict_items([('red', '#FF0000'), ('green', '#008000'), ('blue', '#0000FF')])\n",
            "KEYS dict_keys(['red', 'green', 'blue'])\n",
            "VALUES dict_values(['#FF0000', '#008000', '#0000FF'])\n"
          ]
        }
      ]
    },
    {
      "cell_type": "code",
      "source": [
        "# Transpose\n",
        "l = [[1,2,3,4],[5,6,7,8]]\n",
        "\n",
        "transpose= map(list, zip(*l))\n",
        "print(transpose)\n",
        "for i in transpose:\n",
        "  print(i)\n",
        "\n",
        "transpose_list = list(map(list, zip(*l)))\n",
        "print(\"Transpose list::\",transpose_list)"
      ],
      "metadata": {
        "colab": {
          "base_uri": "https://localhost:8080/"
        },
        "id": "Z9uGBoJUT-ue",
        "outputId": "b6fcfedb-a02a-4b29-e066-8a8e804b9fa4"
      },
      "execution_count": null,
      "outputs": [
        {
          "output_type": "stream",
          "name": "stdout",
          "text": [
            "<map object at 0x7ae7abef6da0>\n",
            "[1, 5]\n",
            "[2, 6]\n",
            "[3, 7]\n",
            "[4, 8]\n",
            "Transpose list:: [[1, 5], [2, 6], [3, 7], [4, 8]]\n"
          ]
        }
      ]
    },
    {
      "cell_type": "code",
      "source": [
        "# Join & Split\n",
        "a=[\"a\",\"b\",\"c\",\"d\"]\n",
        "str1=\"\".join(a)\n",
        "print(str1)\n",
        "\n",
        "#Split:\n",
        "str1=\"this is my, fight song\"\n",
        "print(str1.split(\" \"))\n",
        "\n",
        "str2 = \"hello\"\n",
        "print(str2.split())"
      ],
      "metadata": {
        "colab": {
          "base_uri": "https://localhost:8080/"
        },
        "id": "vQczpG0WT-xt",
        "outputId": "6b957382-946f-4f2d-ac25-22c9ce1d5b4a"
      },
      "execution_count": null,
      "outputs": [
        {
          "output_type": "stream",
          "name": "stdout",
          "text": [
            "abcd\n",
            "['this', 'is', 'my,', 'fight', 'song']\n",
            "['hello']\n"
          ]
        }
      ]
    },
    {
      "cell_type": "code",
      "source": [
        "#STRIP:\n",
        "str = \"0000000this is string example....wow!!!0000000\";\n",
        "print(str.lstrip('0')) # left strip\n",
        "\n",
        "print(str.rstrip('0')) # right strip\n",
        "\n",
        "print(str.strip('0'))  # removes completely\n",
        "\n",
        "#removes the char from the begining of the string.\n"
      ],
      "metadata": {
        "id": "HW2dyRqIEVIp",
        "colab": {
          "base_uri": "https://localhost:8080/"
        },
        "outputId": "6bcb9d66-8d22-4b26-daf1-69b60ab0c978"
      },
      "execution_count": null,
      "outputs": [
        {
          "output_type": "stream",
          "name": "stdout",
          "text": [
            "this is string example....wow!!!0000000\n",
            "0000000this is string example....wow!!!\n",
            "this is string example....wow!!!\n"
          ]
        }
      ]
    },
    {
      "cell_type": "code",
      "source": [
        "#index of item\n",
        "num =[10, 30, 4, -6]\n",
        "print(num.index(-6))\n",
        "print(num.index(30))"
      ],
      "metadata": {
        "id": "Vio95MWU2TPM",
        "colab": {
          "base_uri": "https://localhost:8080/"
        },
        "outputId": "81217acd-d2fe-4292-8113-d6ea6b2ff9cd"
      },
      "execution_count": null,
      "outputs": [
        {
          "output_type": "stream",
          "name": "stdout",
          "text": [
            "3\n",
            "1\n"
          ]
        }
      ]
    },
    {
      "cell_type": "code",
      "source": [
        "print(ord(\"a\")- 97)  # 97\n",
        "\n",
        "print(ord(\"x\")- 97) # 120\n"
      ],
      "metadata": {
        "id": "Ps5MlBA72TbK",
        "colab": {
          "base_uri": "https://localhost:8080/"
        },
        "outputId": "d2e67ba6-0ed9-427b-c926-d2a579871cb7"
      },
      "execution_count": null,
      "outputs": [
        {
          "output_type": "stream",
          "name": "stdout",
          "text": [
            "0\n",
            "23\n"
          ]
        }
      ]
    },
    {
      "cell_type": "markdown",
      "source": [
        "#List Operations:\n",
        "remove= value          lst.remove(val)\n",
        "\n",
        "del= specific index    del lst[0]\n",
        "\n",
        "pop= specific index    lst.pop(1) 2nd val deletes"
      ],
      "metadata": {
        "id": "lumNZo8bmldi"
      }
    },
    {
      "cell_type": "code",
      "source": [
        "l = ['1', '2', '3', '4', '5','2']\n",
        "#Remove removes the first matching value, not a specific index & returns nothing\n",
        "\n",
        "l.remove('2')\n",
        "print(l)"
      ],
      "metadata": {
        "colab": {
          "base_uri": "https://localhost:8080/"
        },
        "id": "BKlCCnrMmn4e",
        "outputId": "006030c1-5575-4218-836c-f81a2d46b998"
      },
      "execution_count": null,
      "outputs": [
        {
          "output_type": "stream",
          "name": "stdout",
          "text": [
            "['1', '3', '4', '5', '2']\n"
          ]
        }
      ]
    },
    {
      "cell_type": "code",
      "source": [
        "# Del deletes the specific index\n",
        "del l[0]\n",
        "print(l)"
      ],
      "metadata": {
        "colab": {
          "base_uri": "https://localhost:8080/"
        },
        "id": "0WO-yrACmvcX",
        "outputId": "71a6ab92-9786-4ef0-943e-34c8d1dc43ec"
      },
      "execution_count": null,
      "outputs": [
        {
          "output_type": "stream",
          "name": "stdout",
          "text": [
            "['3', '4', '5', '2']\n"
          ]
        }
      ]
    },
    {
      "cell_type": "code",
      "source": [
        "# Pop returns the removed element:\n",
        "l.pop(1)\n"
      ],
      "metadata": {
        "colab": {
          "base_uri": "https://localhost:8080/",
          "height": 35
        },
        "id": "vBLqYonlnAy-",
        "outputId": "da0db91b-3178-486c-9c71-822028746b4a"
      },
      "execution_count": null,
      "outputs": [
        {
          "output_type": "execute_result",
          "data": {
            "text/plain": [
              "'4'"
            ],
            "application/vnd.google.colaboratory.intrinsic+json": {
              "type": "string"
            }
          },
          "metadata": {},
          "execution_count": 6
        }
      ]
    },
    {
      "cell_type": "code",
      "source": [
        "print(\"finally list ::\", l)"
      ],
      "metadata": {
        "colab": {
          "base_uri": "https://localhost:8080/"
        },
        "id": "E3FCZ5b_nVFX",
        "outputId": "f1601ce9-1bfd-4ee2-d4db-88efa72b0ba2"
      },
      "execution_count": null,
      "outputs": [
        {
          "output_type": "stream",
          "name": "stdout",
          "text": [
            "finally list :: ['3', '5']\n"
          ]
        }
      ]
    },
    {
      "cell_type": "code",
      "source": [
        "#Inspect:\n",
        "import inspect\n",
        "\n",
        "def test123():\n",
        "    \"\"\"Below statement will print the method name which is called can be very usefull in debugging\"\"\"\n",
        "    print(inspect.stack()[0])\n",
        "    print(inspect.stack()[0][3])\n",
        "test123()"
      ],
      "metadata": {
        "colab": {
          "base_uri": "https://localhost:8080/"
        },
        "id": "OBZWQJaMn2Kj",
        "outputId": "86c09e4f-3f21-4101-e95a-061108773d47"
      },
      "execution_count": null,
      "outputs": [
        {
          "output_type": "stream",
          "name": "stdout",
          "text": [
            "FrameInfo(frame=<frame at 0x7c750401a620, file '<ipython-input-12-64aebbda1cdb>', line 6, code test123>, filename='<ipython-input-12-64aebbda1cdb>', lineno=6, function='test123', code_context=['    print(inspect.stack()[0])\\n'], index=0)\n",
            "test123\n"
          ]
        }
      ]
    },
    {
      "cell_type": "markdown",
      "source": [
        "File handling Read, Write & Execute operations:\n"
      ],
      "metadata": {
        "id": "MZF7MYQ-XpfO"
      }
    },
    {
      "cell_type": "code",
      "source": [
        "#Write Content\n",
        "fp = open(\"f1.txt\",'w')\n",
        "L = [\"This is Delhi \\n\", \"This is Paris \\n\", \"This is London \\n\"]\n",
        "s = \"Hello\\n\"\n",
        "\n",
        "# Writing a string to file\n",
        "fp.write(s)\n",
        "\n",
        "# Writing multiple strings\n",
        "# at a time\n",
        "fp.writelines(L)\n",
        "\n",
        "#close file\n",
        "fp.close()"
      ],
      "metadata": {
        "id": "CRnecasEXvDD"
      },
      "execution_count": null,
      "outputs": []
    },
    {
      "cell_type": "code",
      "source": [
        "# Read Content\n",
        "fp = open(\"f1.txt\",'r')\n",
        "\n",
        "print(\"Read Content:: \",fp.read())\n",
        "fp.close()\n"
      ],
      "metadata": {
        "colab": {
          "base_uri": "https://localhost:8080/"
        },
        "id": "VwngXEw6XxvF",
        "outputId": "8b510039-88d9-4b99-db2b-844dd3db5b10"
      },
      "execution_count": null,
      "outputs": [
        {
          "output_type": "stream",
          "name": "stdout",
          "text": [
            "Read Content::  Hello\n",
            "This is Delhi \n",
            "This is Paris \n",
            "This is London \n",
            "\n"
          ]
        }
      ]
    },
    {
      "cell_type": "code",
      "source": [
        "fp = open(\"f1.txt\",'r')\n",
        "print(\"Readline :: \",fp.readline())\n",
        "fp.close()"
      ],
      "metadata": {
        "colab": {
          "base_uri": "https://localhost:8080/"
        },
        "id": "18QUSNsQYYJh",
        "outputId": "ce0fa8df-3a8c-49be-c952-947a2ce37218"
      },
      "execution_count": null,
      "outputs": [
        {
          "output_type": "stream",
          "name": "stdout",
          "text": [
            "Readline ::  Hello\n",
            "\n"
          ]
        }
      ]
    },
    {
      "cell_type": "code",
      "source": [
        "fp = open(\"f1.txt\",'r')\n",
        "print(\"Readlines ::\", fp.readlines())\n",
        "fp.close()"
      ],
      "metadata": {
        "colab": {
          "base_uri": "https://localhost:8080/"
        },
        "id": "atsh0AsOZCdN",
        "outputId": "e7ffc32b-8658-4229-e910-2ef81bef342b"
      },
      "execution_count": null,
      "outputs": [
        {
          "output_type": "stream",
          "name": "stdout",
          "text": [
            "Readlines :: ['Hello\\n', 'This is Delhi \\n', 'This is Paris \\n', 'This is London \\n']\n"
          ]
        }
      ]
    },
    {
      "cell_type": "markdown",
      "source": [
        "### List Comprehensions:"
      ],
      "metadata": {
        "id": "uU9kslql-dmV"
      }
    },
    {
      "cell_type": "code",
      "source": [
        "list1 = [1,2,3,4]\n",
        "list2 = [3,4]\n",
        "s = set(list2)\n",
        "\n",
        "temp=[x for x in list1 if x not in s]\n",
        "print(temp)"
      ],
      "metadata": {
        "id": "8IM2Uzf5ZGS9",
        "colab": {
          "base_uri": "https://localhost:8080/"
        },
        "outputId": "341e8391-6ea9-442f-9130-378dc2dab38e"
      },
      "execution_count": null,
      "outputs": [
        {
          "output_type": "stream",
          "name": "stdout",
          "text": [
            "[1, 2]\n"
          ]
        }
      ]
    },
    {
      "cell_type": "markdown",
      "source": [
        "#### Dict Comprehension"
      ],
      "metadata": {
        "id": "81-7mLv5-3b5"
      }
    },
    {
      "cell_type": "code",
      "source": [
        "sq = {x:x*x for x in list1}\n",
        "print(sq)"
      ],
      "metadata": {
        "colab": {
          "base_uri": "https://localhost:8080/"
        },
        "id": "jkOVbAtG-wmi",
        "outputId": "f53de2c2-c427-4eac-c963-ef63023c9d3a"
      },
      "execution_count": null,
      "outputs": [
        {
          "output_type": "stream",
          "name": "stdout",
          "text": [
            "{1: 1, 2: 4, 3: 9, 4: 16}\n"
          ]
        }
      ]
    },
    {
      "cell_type": "markdown",
      "source": [
        "d.get() returns nothing if the key is not found,\n",
        "\n",
        "setdefault will be used to assign None if the key is not found.\n"
      ],
      "metadata": {
        "id": "47inVHYu_qOR"
      }
    },
    {
      "cell_type": "code",
      "source": [
        "sq.get(2)"
      ],
      "metadata": {
        "colab": {
          "base_uri": "https://localhost:8080/"
        },
        "id": "uEWpoX3e_Exp",
        "outputId": "21911f9c-7590-4052-827a-6d5055d794da"
      },
      "execution_count": null,
      "outputs": [
        {
          "output_type": "execute_result",
          "data": {
            "text/plain": [
              "4"
            ]
          },
          "metadata": {},
          "execution_count": 23
        }
      ]
    },
    {
      "cell_type": "code",
      "source": [
        "sq.get(11)"
      ],
      "metadata": {
        "id": "sncXGhom_49l"
      },
      "execution_count": null,
      "outputs": []
    },
    {
      "cell_type": "code",
      "source": [
        "sq.setdefault(11)\n",
        "print(sq)"
      ],
      "metadata": {
        "colab": {
          "base_uri": "https://localhost:8080/"
        },
        "id": "vJDL1Hx1_9SC",
        "outputId": "7a63e2f1-acc9-4af5-99a8-475ed8f0ed67"
      },
      "execution_count": null,
      "outputs": [
        {
          "output_type": "stream",
          "name": "stdout",
          "text": [
            "{1: 1, 2: 4, 3: 9, 4: 16, 11: None}\n"
          ]
        }
      ]
    },
    {
      "cell_type": "markdown",
      "source": [
        "Dict Operations:"
      ],
      "metadata": {
        "id": "yhIo4xwNAG89"
      }
    },
    {
      "cell_type": "code",
      "source": [
        "d =  {1: 'one', 2: 'two'}\n",
        "d2 = d #assigning\n",
        "d3 = d.copy() #taking a deepcopy of it, changes won't reflect\n",
        "d3"
      ],
      "metadata": {
        "colab": {
          "base_uri": "https://localhost:8080/"
        },
        "id": "wrIGE-fBACpB",
        "outputId": "552d0825-7c83-4013-d466-d39f86816b43"
      },
      "execution_count": null,
      "outputs": [
        {
          "output_type": "execute_result",
          "data": {
            "text/plain": [
              "{1: 'one', 2: 'two'}"
            ]
          },
          "metadata": {},
          "execution_count": 26
        }
      ]
    },
    {
      "cell_type": "code",
      "source": [
        "d[1]=\"ONE\""
      ],
      "metadata": {
        "id": "_LJiftZwAYxq"
      },
      "execution_count": null,
      "outputs": []
    },
    {
      "cell_type": "code",
      "source": [
        "d2 #changes made on dict is reflecting"
      ],
      "metadata": {
        "id": "DV3ETE_PAfNQ",
        "outputId": "24ee07d4-e1cf-443e-e6ef-3ed863feba2b",
        "colab": {
          "base_uri": "https://localhost:8080/"
        }
      },
      "execution_count": null,
      "outputs": [
        {
          "output_type": "execute_result",
          "data": {
            "text/plain": [
              "{1: 'ONE', 2: 'two'}"
            ]
          },
          "metadata": {},
          "execution_count": 28
        }
      ]
    },
    {
      "cell_type": "code",
      "source": [
        "d3 #changes made won't be reflected"
      ],
      "metadata": {
        "id": "vQr8e9UzAgKN",
        "outputId": "9acefe79-851b-4043-c787-8070dea3e586",
        "colab": {
          "base_uri": "https://localhost:8080/"
        }
      },
      "execution_count": null,
      "outputs": [
        {
          "output_type": "execute_result",
          "data": {
            "text/plain": [
              "{1: 'one', 2: 'two'}"
            ]
          },
          "metadata": {},
          "execution_count": 29
        }
      ]
    },
    {
      "cell_type": "code",
      "source": [
        "# Dict update :\n",
        "dic1={1:10, 2:20}\n",
        "dic2={3:30, 4:40}\n",
        "dic3={5:50,6:60}\n",
        "dic4 = {}\n",
        "\n",
        "for d in (dic1, dic2, dic3):\n",
        "  dic4.update(d)\n",
        "print(dic4)"
      ],
      "metadata": {
        "id": "Hd0QMQtCAhHj",
        "colab": {
          "base_uri": "https://localhost:8080/"
        },
        "outputId": "6b5b8053-25dd-4180-fdde-6d53897f33c3"
      },
      "execution_count": null,
      "outputs": [
        {
          "output_type": "stream",
          "name": "stdout",
          "text": [
            "{1: 10, 2: 20, 3: 30, 4: 40, 5: 50, 6: 60}\n"
          ]
        }
      ]
    },
    {
      "cell_type": "code",
      "source": [
        "#loop dict:\n",
        "d = {'x': 10, 'y': 20, 'z': 30}\n",
        "for dict_key, dict_value in d.items():\n",
        "    print(dict_key,'->',dict_value * dict_value)"
      ],
      "metadata": {
        "colab": {
          "base_uri": "https://localhost:8080/"
        },
        "id": "nEFEaax08yNi",
        "outputId": "324720dc-757b-46ab-b955-319faf8f606d"
      },
      "execution_count": null,
      "outputs": [
        {
          "output_type": "stream",
          "name": "stdout",
          "text": [
            "x -> 100\n",
            "y -> 400\n",
            "z -> 900\n"
          ]
        }
      ]
    },
    {
      "cell_type": "code",
      "source": [
        "#Multiply dict:\n",
        "my_dict = {'data1':10,'data2':-20,'data3':5}\n",
        "result=1\n",
        "for key in my_dict:\n",
        "    result=result * my_dict[key]\n",
        "print(result)"
      ],
      "metadata": {
        "colab": {
          "base_uri": "https://localhost:8080/"
        },
        "id": "-8-L0oYS9GR2",
        "outputId": "1a08d18d-9870-472f-b5d7-7e3c05699c6a"
      },
      "execution_count": null,
      "outputs": [
        {
          "output_type": "stream",
          "name": "stdout",
          "text": [
            "-1000\n"
          ]
        }
      ]
    },
    {
      "cell_type": "code",
      "source": [
        "#Delete key:\n",
        "myDict = {'a':1,'b':2,'c':3,'d':4}\n",
        "print(myDict)\n",
        "if 'a' in myDict:\n",
        "    del myDict['a']\n",
        "print(\"Post Deletion::\", myDict)"
      ],
      "metadata": {
        "colab": {
          "base_uri": "https://localhost:8080/"
        },
        "id": "-5H6psY69Qai",
        "outputId": "85695ccf-69cc-4175-8495-ebf4301af584"
      },
      "execution_count": null,
      "outputs": [
        {
          "output_type": "stream",
          "name": "stdout",
          "text": [
            "{'a': 1, 'b': 2, 'c': 3, 'd': 4}\n",
            "Post Deletion:: {'b': 2, 'c': 3, 'd': 4}\n"
          ]
        }
      ]
    },
    {
      "cell_type": "code",
      "source": [
        "#Max & Min value in dict:\n",
        "my_dict = {'x':500, 'y':5874, 'z': 560}\n",
        "\n",
        "key_max = max(my_dict.keys(), key=(lambda k: my_dict[k]))\n",
        "key_min = min(my_dict.keys(), key=(lambda k: my_dict[k]))\n",
        "\n",
        "print(key_max, key_min)"
      ],
      "metadata": {
        "colab": {
          "base_uri": "https://localhost:8080/"
        },
        "id": "KRfO3yJJ9gYx",
        "outputId": "66865ccb-2d21-479f-9650-66130ff0a7b4"
      },
      "execution_count": null,
      "outputs": [
        {
          "output_type": "stream",
          "name": "stdout",
          "text": [
            "y x\n"
          ]
        }
      ]
    },
    {
      "cell_type": "markdown",
      "source": [
        "**Regular Expressions:**\n",
        "\n",
        "Python offers two different primitive operations based on regular expressions: match checks for a match only at the beginning of the string,\n",
        "while search checks for a match anywhere in the string (this is what Perl does by default).\n"
      ],
      "metadata": {
        "id": "xPoITKhW-gjC"
      }
    },
    {
      "cell_type": "code",
      "source": [
        "import re\n",
        "phone = '2004-959-559 #This is Phone Number'\n",
        "num = re.sub(r\"#.*$\",\"\",phone)\n",
        "num  #removed all the characters except number & hyphen"
      ],
      "metadata": {
        "colab": {
          "base_uri": "https://localhost:8080/",
          "height": 36
        },
        "id": "s8QrL6bX-AKv",
        "outputId": "1a6f6b9d-fe99-4251-cb57-48860d323167"
      },
      "execution_count": null,
      "outputs": [
        {
          "output_type": "execute_result",
          "data": {
            "text/plain": [
              "'2004-959-559 '"
            ],
            "application/vnd.google.colaboratory.intrinsic+json": {
              "type": "string"
            }
          },
          "metadata": {},
          "execution_count": 12
        }
      ]
    },
    {
      "cell_type": "code",
      "source": [
        "num = re.sub(r'\\D',\"\",phone)\n",
        "num"
      ],
      "metadata": {
        "colab": {
          "base_uri": "https://localhost:8080/",
          "height": 36
        },
        "id": "cLPGSTjj-4t8",
        "outputId": "2a769ace-5997-4539-ed1f-5f21a1acb50c"
      },
      "execution_count": null,
      "outputs": [
        {
          "output_type": "execute_result",
          "data": {
            "text/plain": [
              "'2004959559'"
            ],
            "application/vnd.google.colaboratory.intrinsic+json": {
              "type": "string"
            }
          },
          "metadata": {},
          "execution_count": 14
        }
      ]
    },
    {
      "cell_type": "code",
      "source": [
        "ts = \"apples oranges apples\"\n",
        "\n",
        "match_obj = re.match(\"apple\", ts)\n",
        "search_obj = re.search(\"apples\",ts)\n",
        "findall_obj = re.findall(\"apples\",ts)"
      ],
      "metadata": {
        "id": "TEF9qm2M_XlJ"
      },
      "execution_count": null,
      "outputs": []
    },
    {
      "cell_type": "code",
      "source": [
        "print(match_obj)\n",
        "print(search_obj)\n",
        "print(findall_obj)"
      ],
      "metadata": {
        "colab": {
          "base_uri": "https://localhost:8080/"
        },
        "id": "JGzHRPdhBgaH",
        "outputId": "f3fdf390-8bda-4500-bff2-cba24fa6750f"
      },
      "execution_count": null,
      "outputs": [
        {
          "output_type": "stream",
          "name": "stdout",
          "text": [
            "<re.Match object; span=(0, 5), match='apple'>\n",
            "<re.Match object; span=(0, 6), match='apples'>\n",
            "['apples', 'apples']\n"
          ]
        }
      ]
    },
    {
      "cell_type": "code",
      "source": [
        "#substitue:\n",
        "text_after = re.sub(regex_search_term, regex_replacement, text_before)\n"
      ],
      "metadata": {
        "id": "YIPquvO7BmYS"
      },
      "execution_count": null,
      "outputs": []
    },
    {
      "cell_type": "markdown",
      "source": [
        "IMP REGEX:\n",
        "\n",
        "Email   \\w+[._]*\\w*@\\w+.\\w+\n",
        "\n",
        "Phone No: [789]\\d{9}|\\d{3,}-\\d{6,}\n",
        "\n",
        "IP Address: (\\d+\\.\\d+\\.\\d+\\.\\d+)\n",
        "\n",
        "Valid IP address: ((25[0-5]|2[0-4][0-9]|[01]?[0-9][0-9]?)\\.){3}(25[0-5]|2[0-4][0-9]|[01]?[0-9][0-9]?)\n",
        "((25[0-5]|2[0-4][0-9]|[01]?[0-9][0-9]?)\\.){3}(25[0-5]|2[0-4][0-9]|[01]?[0-9][0-9]?)\n",
        "\n",
        "URL : \\w+://(?:\\w+|[/:;+=*.])+\n",
        "\n",
        "Special Character: /^[-@./#&+\\w\\s]*$/\n",
        "\n",
        "float values: [+-]?([0-9]*[.])?[0-9]+\n",
        "\n",
        "REGEX EMAIL:\n",
        "[\\w.-]+@[\\w.-]+.\\w+\n",
        "\n",
        "\\\"?([-a-zA-Z0-9.`?{}]+@\\w+\\.\\w+)\\\"?\n",
        "\n",
        "('(\\w+[.|\\w])*@(\\w+[.])*\\w+',email4)"
      ],
      "metadata": {
        "id": "v6LeCvaFB9HW"
      }
    },
    {
      "cell_type": "code",
      "source": [
        "import re\n",
        "# here is my function to check for valid email address\n",
        "def test_email(your_pattern):\n",
        "  pattern = re.compile(your_pattern)\n",
        "  # here is an example list of email to check it at the end\n",
        "  emails = [\"john@example.com\", \"python-#list@python.org\", \"wha.t.`1an?ug{}ly@email.com\"]\n",
        "  for email in emails:\n",
        "      if not re.match(pattern, email):\n",
        "        print(\"You failed to match %s\" % (email))\n",
        "      elif not your_pattern:\n",
        "        print(\"Forgot to enter a pattern!\")\n",
        "      else:\n",
        "          print(\"Pass\")\n",
        "# my pattern that is passed as argument in my function is here!\n",
        "pattern = r\"\\\"?([-a-zA-Z0-9.`?{}]+@\\w+\\.\\w+)\\\"?\"\n",
        "# here i test my function passing my pattern\n",
        "test_email(pattern)"
      ],
      "metadata": {
        "colab": {
          "base_uri": "https://localhost:8080/"
        },
        "id": "UolBYY_FB1nV",
        "outputId": "6773eea0-4945-487e-f174-a08b2ab014be"
      },
      "execution_count": null,
      "outputs": [
        {
          "output_type": "stream",
          "name": "stdout",
          "text": [
            "Pass\n",
            "You failed to match python-#list@python.org\n",
            "Pass\n"
          ]
        }
      ]
    },
    {
      "cell_type": "code",
      "source": [
        "import socket\n",
        "def valid_ip(address):\n",
        "    try:\n",
        "        socket.inet_aton(address)\n",
        "        return True\n",
        "    except:\n",
        "        return False\n",
        "print(valid_ip(\"10.10.9.89\"))\n",
        "print(valid_ip(\"10.10.9.899\"))"
      ],
      "metadata": {
        "colab": {
          "base_uri": "https://localhost:8080/"
        },
        "id": "Zm1Y-bDJCvYY",
        "outputId": "5b27546d-5fc6-4d76-f63b-142c4a498b68"
      },
      "execution_count": null,
      "outputs": [
        {
          "output_type": "stream",
          "name": "stdout",
          "text": [
            "True\n",
            "False\n"
          ]
        }
      ]
    },
    {
      "cell_type": "code",
      "source": [
        "import random\n",
        "\n",
        "# Generates a random number between\n",
        "# a given positive range\n",
        "r1 = random.randint(0, 10)\n",
        "print(r1)"
      ],
      "metadata": {
        "colab": {
          "base_uri": "https://localhost:8080/"
        },
        "id": "7S1X4Th2DljQ",
        "outputId": "60680626-36b0-4f82-aa58-eb1eeeb3797f"
      },
      "execution_count": null,
      "outputs": [
        {
          "output_type": "stream",
          "name": "stdout",
          "text": [
            "5\n"
          ]
        }
      ]
    },
    {
      "cell_type": "code",
      "source": [
        "#Sort tupple by last element:\n",
        "def last(n): return n[-1]\n",
        "\n",
        "def sort_list_last(tuples):\n",
        "  return sorted(tuples, key=last)\n",
        "\n",
        "print(sort_list_last([(2, 5), (1, 2), (4, 4), (2, 3), (2, 1)]))\n"
      ],
      "metadata": {
        "colab": {
          "base_uri": "https://localhost:8080/"
        },
        "id": "3ONR7UOHD3af",
        "outputId": "23beb59a-8800-486a-9cf6-7c16c279b785"
      },
      "execution_count": null,
      "outputs": [
        {
          "output_type": "stream",
          "name": "stdout",
          "text": [
            "[(2, 1), (1, 2), (2, 3), (4, 4), (2, 5)]\n"
          ]
        }
      ]
    },
    {
      "cell_type": "code",
      "source": [
        "#list inside list:\n",
        "e = [[1,2,3,4], [1,5,6,7], [9,8,7,6]]\n",
        "workers=[j for i in e for j in i]\n",
        "print(workers)"
      ],
      "metadata": {
        "colab": {
          "base_uri": "https://localhost:8080/"
        },
        "id": "2lhrMpJND3dh",
        "outputId": "ed43777a-ecb1-44d7-b30f-f7b04d02ef9f"
      },
      "execution_count": null,
      "outputs": [
        {
          "output_type": "stream",
          "name": "stdout",
          "text": [
            "[1, 2, 3, 4, 1, 5, 6, 7, 9, 8, 7, 6]\n"
          ]
        }
      ]
    },
    {
      "cell_type": "code",
      "source": [
        "#check directories\n",
        "l = []\n",
        "dir(l)"
      ],
      "metadata": {
        "id": "TY8dsXiND3gk",
        "colab": {
          "base_uri": "https://localhost:8080/"
        },
        "outputId": "1f756e00-9439-43de-9e07-77984ee70ea2"
      },
      "execution_count": null,
      "outputs": [
        {
          "output_type": "execute_result",
          "data": {
            "text/plain": [
              "['__add__',\n",
              " '__class__',\n",
              " '__class_getitem__',\n",
              " '__contains__',\n",
              " '__delattr__',\n",
              " '__delitem__',\n",
              " '__dir__',\n",
              " '__doc__',\n",
              " '__eq__',\n",
              " '__format__',\n",
              " '__ge__',\n",
              " '__getattribute__',\n",
              " '__getitem__',\n",
              " '__gt__',\n",
              " '__hash__',\n",
              " '__iadd__',\n",
              " '__imul__',\n",
              " '__init__',\n",
              " '__init_subclass__',\n",
              " '__iter__',\n",
              " '__le__',\n",
              " '__len__',\n",
              " '__lt__',\n",
              " '__mul__',\n",
              " '__ne__',\n",
              " '__new__',\n",
              " '__reduce__',\n",
              " '__reduce_ex__',\n",
              " '__repr__',\n",
              " '__reversed__',\n",
              " '__rmul__',\n",
              " '__setattr__',\n",
              " '__setitem__',\n",
              " '__sizeof__',\n",
              " '__str__',\n",
              " '__subclasshook__',\n",
              " 'append',\n",
              " 'clear',\n",
              " 'copy',\n",
              " 'count',\n",
              " 'extend',\n",
              " 'index',\n",
              " 'insert',\n",
              " 'pop',\n",
              " 'remove',\n",
              " 'reverse',\n",
              " 'sort']"
            ]
          },
          "metadata": {},
          "execution_count": 1
        }
      ]
    },
    {
      "cell_type": "code",
      "source": [
        "help(l.__len__)"
      ],
      "metadata": {
        "id": "b9FcVIN9D3jU",
        "colab": {
          "base_uri": "https://localhost:8080/"
        },
        "outputId": "1838ba5c-725b-4601-d6c9-21dc17d98035"
      },
      "execution_count": null,
      "outputs": [
        {
          "output_type": "stream",
          "name": "stdout",
          "text": [
            "Help on method-wrapper:\n",
            "\n",
            "__len__ = <method-wrapper '__len__' of list object>\n",
            "    Return len(self).\n",
            "\n"
          ]
        }
      ]
    },
    {
      "cell_type": "code",
      "source": [
        "help('str')"
      ],
      "metadata": {
        "id": "wv_1_NKGD3l6",
        "colab": {
          "base_uri": "https://localhost:8080/",
          "height": 1000
        },
        "outputId": "1033484d-cb31-494d-925f-0cd83281bff3"
      },
      "execution_count": null,
      "outputs": [
        {
          "output_type": "stream",
          "name": "stderr",
          "text": [
            "/usr/local/lib/python3.10/dist-packages/ipykernel/ipkernel.py:283: DeprecationWarning: `should_run_async` will not call `transform_cell` automatically in the future. Please pass the result to `transformed_cell` argument and any exception that happen during thetransform in `preprocessing_exc_tuple` in IPython 7.17 and above.\n"
          ]
        },
        {
          "output_type": "display_data",
          "data": {
            "text/plain": [
              "<IPython.core.display.HTML object>"
            ],
            "text/html": [
              "\n",
              "            <style>\n",
              "                .geemap-dark {\n",
              "                    --jp-widgets-color: white;\n",
              "                    --jp-widgets-label-color: white;\n",
              "                    --jp-ui-font-color1: white;\n",
              "                    --jp-layout-color2: #454545;\n",
              "                    background-color: #383838;\n",
              "                }\n",
              "                    \n",
              "                .geemap-dark .jupyter-button {\n",
              "                    --jp-layout-color3: #383838;\n",
              "                }\n",
              "                \n",
              "                .geemap-colab {\n",
              "                    background-color: var(--colab-primary-surface-color, white);\n",
              "                }\n",
              "                    \n",
              "                .geemap-colab .jupyter-button {\n",
              "                    --jp-layout-color3: var(--colab-primary-surface-color, white);\n",
              "                }\n",
              "            </style>\n",
              "            "
            ]
          },
          "metadata": {}
        },
        {
          "output_type": "stream",
          "name": "stdout",
          "text": [
            "Help on class str in module builtins:\n",
            "\n",
            "class str(object)\n",
            " |  str(object='') -> str\n",
            " |  str(bytes_or_buffer[, encoding[, errors]]) -> str\n",
            " |  \n",
            " |  Create a new string object from the given object. If encoding or\n",
            " |  errors is specified, then the object must expose a data buffer\n",
            " |  that will be decoded using the given encoding and error handler.\n",
            " |  Otherwise, returns the result of object.__str__() (if defined)\n",
            " |  or repr(object).\n",
            " |  encoding defaults to sys.getdefaultencoding().\n",
            " |  errors defaults to 'strict'.\n",
            " |  \n",
            " |  Methods defined here:\n",
            " |  \n",
            " |  __add__(self, value, /)\n",
            " |      Return self+value.\n",
            " |  \n",
            " |  __contains__(self, key, /)\n",
            " |      Return key in self.\n",
            " |  \n",
            " |  __eq__(self, value, /)\n",
            " |      Return self==value.\n",
            " |  \n",
            " |  __format__(self, format_spec, /)\n",
            " |      Return a formatted version of the string as described by format_spec.\n",
            " |  \n",
            " |  __ge__(self, value, /)\n",
            " |      Return self>=value.\n",
            " |  \n",
            " |  __getattribute__(self, name, /)\n",
            " |      Return getattr(self, name).\n",
            " |  \n",
            " |  __getitem__(self, key, /)\n",
            " |      Return self[key].\n",
            " |  \n",
            " |  __getnewargs__(...)\n",
            " |  \n",
            " |  __gt__(self, value, /)\n",
            " |      Return self>value.\n",
            " |  \n",
            " |  __hash__(self, /)\n",
            " |      Return hash(self).\n",
            " |  \n",
            " |  __iter__(self, /)\n",
            " |      Implement iter(self).\n",
            " |  \n",
            " |  __le__(self, value, /)\n",
            " |      Return self<=value.\n",
            " |  \n",
            " |  __len__(self, /)\n",
            " |      Return len(self).\n",
            " |  \n",
            " |  __lt__(self, value, /)\n",
            " |      Return self<value.\n",
            " |  \n",
            " |  __mod__(self, value, /)\n",
            " |      Return self%value.\n",
            " |  \n",
            " |  __mul__(self, value, /)\n",
            " |      Return self*value.\n",
            " |  \n",
            " |  __ne__(self, value, /)\n",
            " |      Return self!=value.\n",
            " |  \n",
            " |  __repr__(self, /)\n",
            " |      Return repr(self).\n",
            " |  \n",
            " |  __rmod__(self, value, /)\n",
            " |      Return value%self.\n",
            " |  \n",
            " |  __rmul__(self, value, /)\n",
            " |      Return value*self.\n",
            " |  \n",
            " |  __sizeof__(self, /)\n",
            " |      Return the size of the string in memory, in bytes.\n",
            " |  \n",
            " |  __str__(self, /)\n",
            " |      Return str(self).\n",
            " |  \n",
            " |  capitalize(self, /)\n",
            " |      Return a capitalized version of the string.\n",
            " |      \n",
            " |      More specifically, make the first character have upper case and the rest lower\n",
            " |      case.\n",
            " |  \n",
            " |  casefold(self, /)\n",
            " |      Return a version of the string suitable for caseless comparisons.\n",
            " |  \n",
            " |  center(self, width, fillchar=' ', /)\n",
            " |      Return a centered string of length width.\n",
            " |      \n",
            " |      Padding is done using the specified fill character (default is a space).\n",
            " |  \n",
            " |  count(...)\n",
            " |      S.count(sub[, start[, end]]) -> int\n",
            " |      \n",
            " |      Return the number of non-overlapping occurrences of substring sub in\n",
            " |      string S[start:end].  Optional arguments start and end are\n",
            " |      interpreted as in slice notation.\n",
            " |  \n",
            " |  encode(self, /, encoding='utf-8', errors='strict')\n",
            " |      Encode the string using the codec registered for encoding.\n",
            " |      \n",
            " |      encoding\n",
            " |        The encoding in which to encode the string.\n",
            " |      errors\n",
            " |        The error handling scheme to use for encoding errors.\n",
            " |        The default is 'strict' meaning that encoding errors raise a\n",
            " |        UnicodeEncodeError.  Other possible values are 'ignore', 'replace' and\n",
            " |        'xmlcharrefreplace' as well as any other name registered with\n",
            " |        codecs.register_error that can handle UnicodeEncodeErrors.\n",
            " |  \n",
            " |  endswith(...)\n",
            " |      S.endswith(suffix[, start[, end]]) -> bool\n",
            " |      \n",
            " |      Return True if S ends with the specified suffix, False otherwise.\n",
            " |      With optional start, test S beginning at that position.\n",
            " |      With optional end, stop comparing S at that position.\n",
            " |      suffix can also be a tuple of strings to try.\n",
            " |  \n",
            " |  expandtabs(self, /, tabsize=8)\n",
            " |      Return a copy where all tab characters are expanded using spaces.\n",
            " |      \n",
            " |      If tabsize is not given, a tab size of 8 characters is assumed.\n",
            " |  \n",
            " |  find(...)\n",
            " |      S.find(sub[, start[, end]]) -> int\n",
            " |      \n",
            " |      Return the lowest index in S where substring sub is found,\n",
            " |      such that sub is contained within S[start:end].  Optional\n",
            " |      arguments start and end are interpreted as in slice notation.\n",
            " |      \n",
            " |      Return -1 on failure.\n",
            " |  \n",
            " |  format(...)\n",
            " |      S.format(*args, **kwargs) -> str\n",
            " |      \n",
            " |      Return a formatted version of S, using substitutions from args and kwargs.\n",
            " |      The substitutions are identified by braces ('{' and '}').\n",
            " |  \n",
            " |  format_map(...)\n",
            " |      S.format_map(mapping) -> str\n",
            " |      \n",
            " |      Return a formatted version of S, using substitutions from mapping.\n",
            " |      The substitutions are identified by braces ('{' and '}').\n",
            " |  \n",
            " |  index(...)\n",
            " |      S.index(sub[, start[, end]]) -> int\n",
            " |      \n",
            " |      Return the lowest index in S where substring sub is found,\n",
            " |      such that sub is contained within S[start:end].  Optional\n",
            " |      arguments start and end are interpreted as in slice notation.\n",
            " |      \n",
            " |      Raises ValueError when the substring is not found.\n",
            " |  \n",
            " |  isalnum(self, /)\n",
            " |      Return True if the string is an alpha-numeric string, False otherwise.\n",
            " |      \n",
            " |      A string is alpha-numeric if all characters in the string are alpha-numeric and\n",
            " |      there is at least one character in the string.\n",
            " |  \n",
            " |  isalpha(self, /)\n",
            " |      Return True if the string is an alphabetic string, False otherwise.\n",
            " |      \n",
            " |      A string is alphabetic if all characters in the string are alphabetic and there\n",
            " |      is at least one character in the string.\n",
            " |  \n",
            " |  isascii(self, /)\n",
            " |      Return True if all characters in the string are ASCII, False otherwise.\n",
            " |      \n",
            " |      ASCII characters have code points in the range U+0000-U+007F.\n",
            " |      Empty string is ASCII too.\n",
            " |  \n",
            " |  isdecimal(self, /)\n",
            " |      Return True if the string is a decimal string, False otherwise.\n",
            " |      \n",
            " |      A string is a decimal string if all characters in the string are decimal and\n",
            " |      there is at least one character in the string.\n",
            " |  \n",
            " |  isdigit(self, /)\n",
            " |      Return True if the string is a digit string, False otherwise.\n",
            " |      \n",
            " |      A string is a digit string if all characters in the string are digits and there\n",
            " |      is at least one character in the string.\n",
            " |  \n",
            " |  isidentifier(self, /)\n",
            " |      Return True if the string is a valid Python identifier, False otherwise.\n",
            " |      \n",
            " |      Call keyword.iskeyword(s) to test whether string s is a reserved identifier,\n",
            " |      such as \"def\" or \"class\".\n",
            " |  \n",
            " |  islower(self, /)\n",
            " |      Return True if the string is a lowercase string, False otherwise.\n",
            " |      \n",
            " |      A string is lowercase if all cased characters in the string are lowercase and\n",
            " |      there is at least one cased character in the string.\n",
            " |  \n",
            " |  isnumeric(self, /)\n",
            " |      Return True if the string is a numeric string, False otherwise.\n",
            " |      \n",
            " |      A string is numeric if all characters in the string are numeric and there is at\n",
            " |      least one character in the string.\n",
            " |  \n",
            " |  isprintable(self, /)\n",
            " |      Return True if the string is printable, False otherwise.\n",
            " |      \n",
            " |      A string is printable if all of its characters are considered printable in\n",
            " |      repr() or if it is empty.\n",
            " |  \n",
            " |  isspace(self, /)\n",
            " |      Return True if the string is a whitespace string, False otherwise.\n",
            " |      \n",
            " |      A string is whitespace if all characters in the string are whitespace and there\n",
            " |      is at least one character in the string.\n",
            " |  \n",
            " |  istitle(self, /)\n",
            " |      Return True if the string is a title-cased string, False otherwise.\n",
            " |      \n",
            " |      In a title-cased string, upper- and title-case characters may only\n",
            " |      follow uncased characters and lowercase characters only cased ones.\n",
            " |  \n",
            " |  isupper(self, /)\n",
            " |      Return True if the string is an uppercase string, False otherwise.\n",
            " |      \n",
            " |      A string is uppercase if all cased characters in the string are uppercase and\n",
            " |      there is at least one cased character in the string.\n",
            " |  \n",
            " |  join(self, iterable, /)\n",
            " |      Concatenate any number of strings.\n",
            " |      \n",
            " |      The string whose method is called is inserted in between each given string.\n",
            " |      The result is returned as a new string.\n",
            " |      \n",
            " |      Example: '.'.join(['ab', 'pq', 'rs']) -> 'ab.pq.rs'\n",
            " |  \n",
            " |  ljust(self, width, fillchar=' ', /)\n",
            " |      Return a left-justified string of length width.\n",
            " |      \n",
            " |      Padding is done using the specified fill character (default is a space).\n",
            " |  \n",
            " |  lower(self, /)\n",
            " |      Return a copy of the string converted to lowercase.\n",
            " |  \n",
            " |  lstrip(self, chars=None, /)\n",
            " |      Return a copy of the string with leading whitespace removed.\n",
            " |      \n",
            " |      If chars is given and not None, remove characters in chars instead.\n",
            " |  \n",
            " |  partition(self, sep, /)\n",
            " |      Partition the string into three parts using the given separator.\n",
            " |      \n",
            " |      This will search for the separator in the string.  If the separator is found,\n",
            " |      returns a 3-tuple containing the part before the separator, the separator\n",
            " |      itself, and the part after it.\n",
            " |      \n",
            " |      If the separator is not found, returns a 3-tuple containing the original string\n",
            " |      and two empty strings.\n",
            " |  \n",
            " |  removeprefix(self, prefix, /)\n",
            " |      Return a str with the given prefix string removed if present.\n",
            " |      \n",
            " |      If the string starts with the prefix string, return string[len(prefix):].\n",
            " |      Otherwise, return a copy of the original string.\n",
            " |  \n",
            " |  removesuffix(self, suffix, /)\n",
            " |      Return a str with the given suffix string removed if present.\n",
            " |      \n",
            " |      If the string ends with the suffix string and that suffix is not empty,\n",
            " |      return string[:-len(suffix)]. Otherwise, return a copy of the original\n",
            " |      string.\n",
            " |  \n",
            " |  replace(self, old, new, count=-1, /)\n",
            " |      Return a copy with all occurrences of substring old replaced by new.\n",
            " |      \n",
            " |        count\n",
            " |          Maximum number of occurrences to replace.\n",
            " |          -1 (the default value) means replace all occurrences.\n",
            " |      \n",
            " |      If the optional argument count is given, only the first count occurrences are\n",
            " |      replaced.\n",
            " |  \n",
            " |  rfind(...)\n",
            " |      S.rfind(sub[, start[, end]]) -> int\n",
            " |      \n",
            " |      Return the highest index in S where substring sub is found,\n",
            " |      such that sub is contained within S[start:end].  Optional\n",
            " |      arguments start and end are interpreted as in slice notation.\n",
            " |      \n",
            " |      Return -1 on failure.\n",
            " |  \n",
            " |  rindex(...)\n",
            " |      S.rindex(sub[, start[, end]]) -> int\n",
            " |      \n",
            " |      Return the highest index in S where substring sub is found,\n",
            " |      such that sub is contained within S[start:end].  Optional\n",
            " |      arguments start and end are interpreted as in slice notation.\n",
            " |      \n",
            " |      Raises ValueError when the substring is not found.\n",
            " |  \n",
            " |  rjust(self, width, fillchar=' ', /)\n",
            " |      Return a right-justified string of length width.\n",
            " |      \n",
            " |      Padding is done using the specified fill character (default is a space).\n",
            " |  \n",
            " |  rpartition(self, sep, /)\n",
            " |      Partition the string into three parts using the given separator.\n",
            " |      \n",
            " |      This will search for the separator in the string, starting at the end. If\n",
            " |      the separator is found, returns a 3-tuple containing the part before the\n",
            " |      separator, the separator itself, and the part after it.\n",
            " |      \n",
            " |      If the separator is not found, returns a 3-tuple containing two empty strings\n",
            " |      and the original string.\n",
            " |  \n",
            " |  rsplit(self, /, sep=None, maxsplit=-1)\n",
            " |      Return a list of the substrings in the string, using sep as the separator string.\n",
            " |      \n",
            " |        sep\n",
            " |          The separator used to split the string.\n",
            " |      \n",
            " |          When set to None (the default value), will split on any whitespace\n",
            " |          character (including \\\\n \\\\r \\\\t \\\\f and spaces) and will discard\n",
            " |          empty strings from the result.\n",
            " |        maxsplit\n",
            " |          Maximum number of splits (starting from the left).\n",
            " |          -1 (the default value) means no limit.\n",
            " |      \n",
            " |      Splitting starts at the end of the string and works to the front.\n",
            " |  \n",
            " |  rstrip(self, chars=None, /)\n",
            " |      Return a copy of the string with trailing whitespace removed.\n",
            " |      \n",
            " |      If chars is given and not None, remove characters in chars instead.\n",
            " |  \n",
            " |  split(self, /, sep=None, maxsplit=-1)\n",
            " |      Return a list of the substrings in the string, using sep as the separator string.\n",
            " |      \n",
            " |        sep\n",
            " |          The separator used to split the string.\n",
            " |      \n",
            " |          When set to None (the default value), will split on any whitespace\n",
            " |          character (including \\\\n \\\\r \\\\t \\\\f and spaces) and will discard\n",
            " |          empty strings from the result.\n",
            " |        maxsplit\n",
            " |          Maximum number of splits (starting from the left).\n",
            " |          -1 (the default value) means no limit.\n",
            " |      \n",
            " |      Note, str.split() is mainly useful for data that has been intentionally\n",
            " |      delimited.  With natural text that includes punctuation, consider using\n",
            " |      the regular expression module.\n",
            " |  \n",
            " |  splitlines(self, /, keepends=False)\n",
            " |      Return a list of the lines in the string, breaking at line boundaries.\n",
            " |      \n",
            " |      Line breaks are not included in the resulting list unless keepends is given and\n",
            " |      true.\n",
            " |  \n",
            " |  startswith(...)\n",
            " |      S.startswith(prefix[, start[, end]]) -> bool\n",
            " |      \n",
            " |      Return True if S starts with the specified prefix, False otherwise.\n",
            " |      With optional start, test S beginning at that position.\n",
            " |      With optional end, stop comparing S at that position.\n",
            " |      prefix can also be a tuple of strings to try.\n",
            " |  \n",
            " |  strip(self, chars=None, /)\n",
            " |      Return a copy of the string with leading and trailing whitespace removed.\n",
            " |      \n",
            " |      If chars is given and not None, remove characters in chars instead.\n",
            " |  \n",
            " |  swapcase(self, /)\n",
            " |      Convert uppercase characters to lowercase and lowercase characters to uppercase.\n",
            " |  \n",
            " |  title(self, /)\n",
            " |      Return a version of the string where each word is titlecased.\n",
            " |      \n",
            " |      More specifically, words start with uppercased characters and all remaining\n",
            " |      cased characters have lower case.\n",
            " |  \n",
            " |  translate(self, table, /)\n",
            " |      Replace each character in the string using the given translation table.\n",
            " |      \n",
            " |        table\n",
            " |          Translation table, which must be a mapping of Unicode ordinals to\n",
            " |          Unicode ordinals, strings, or None.\n",
            " |      \n",
            " |      The table must implement lookup/indexing via __getitem__, for instance a\n",
            " |      dictionary or list.  If this operation raises LookupError, the character is\n",
            " |      left untouched.  Characters mapped to None are deleted.\n",
            " |  \n",
            " |  upper(self, /)\n",
            " |      Return a copy of the string converted to uppercase.\n",
            " |  \n",
            " |  zfill(self, width, /)\n",
            " |      Pad a numeric string with zeros on the left, to fill a field of the given width.\n",
            " |      \n",
            " |      The string is never truncated.\n",
            " |  \n",
            " |  ----------------------------------------------------------------------\n",
            " |  Static methods defined here:\n",
            " |  \n",
            " |  __new__(*args, **kwargs) from builtins.type\n",
            " |      Create and return a new object.  See help(type) for accurate signature.\n",
            " |  \n",
            " |  maketrans(...)\n",
            " |      Return a translation table usable for str.translate().\n",
            " |      \n",
            " |      If there is only one argument, it must be a dictionary mapping Unicode\n",
            " |      ordinals (integers) or characters to Unicode ordinals, strings or None.\n",
            " |      Character keys will be then converted to ordinals.\n",
            " |      If there are two arguments, they must be strings of equal length, and\n",
            " |      in the resulting dictionary, each character in x will be mapped to the\n",
            " |      character at the same position in y. If there is a third argument, it\n",
            " |      must be a string, whose characters will be mapped to None in the result.\n",
            "\n"
          ]
        }
      ]
    },
    {
      "cell_type": "markdown",
      "source": [
        "#### Erros in python"
      ],
      "metadata": {
        "id": "JE_3Pr_NYOkK"
      }
    },
    {
      "cell_type": "code",
      "source": [
        "1/0"
      ],
      "metadata": {
        "id": "r8AmeqdhYroD",
        "outputId": "4f614d59-a950-4729-f417-014b4cbf53d8",
        "colab": {
          "base_uri": "https://localhost:8080/",
          "height": 175
        }
      },
      "execution_count": null,
      "outputs": [
        {
          "output_type": "error",
          "ename": "ZeroDivisionError",
          "evalue": "ignored",
          "traceback": [
            "\u001b[0;31m---------------------------------------------------------------------------\u001b[0m",
            "\u001b[0;31mZeroDivisionError\u001b[0m                         Traceback (most recent call last)",
            "\u001b[0;32m<ipython-input-2-9e1622b385b6>\u001b[0m in \u001b[0;36m<cell line: 1>\u001b[0;34m()\u001b[0m\n\u001b[0;32m----> 1\u001b[0;31m \u001b[0;36m1\u001b[0m\u001b[0;34m/\u001b[0m\u001b[0;36m0\u001b[0m\u001b[0;34m\u001b[0m\u001b[0;34m\u001b[0m\u001b[0m\n\u001b[0m",
            "\u001b[0;31mZeroDivisionError\u001b[0m: division by zero"
          ]
        }
      ]
    },
    {
      "cell_type": "code",
      "source": [
        "l = [1,2,3,4]\n",
        "l[10]"
      ],
      "metadata": {
        "colab": {
          "base_uri": "https://localhost:8080/",
          "height": 230
        },
        "id": "7eoENYKk3lYz",
        "outputId": "4cd5c0f5-39ee-42cf-d4be-e66927219391"
      },
      "execution_count": null,
      "outputs": [
        {
          "output_type": "stream",
          "name": "stderr",
          "text": [
            "/usr/local/lib/python3.10/dist-packages/ipykernel/ipkernel.py:283: DeprecationWarning: `should_run_async` will not call `transform_cell` automatically in the future. Please pass the result to `transformed_cell` argument and any exception that happen during thetransform in `preprocessing_exc_tuple` in IPython 7.17 and above.\n"
          ]
        },
        {
          "output_type": "display_data",
          "data": {
            "text/plain": [
              "<IPython.core.display.HTML object>"
            ],
            "text/html": [
              "\n",
              "            <style>\n",
              "                .geemap-dark {\n",
              "                    --jp-widgets-color: white;\n",
              "                    --jp-widgets-label-color: white;\n",
              "                    --jp-ui-font-color1: white;\n",
              "                    --jp-layout-color2: #454545;\n",
              "                    background-color: #383838;\n",
              "                }\n",
              "                    \n",
              "                .geemap-dark .jupyter-button {\n",
              "                    --jp-layout-color3: #383838;\n",
              "                }\n",
              "                \n",
              "                .geemap-colab {\n",
              "                    background-color: var(--colab-primary-surface-color, white);\n",
              "                }\n",
              "                    \n",
              "                .geemap-colab .jupyter-button {\n",
              "                    --jp-layout-color3: var(--colab-primary-surface-color, white);\n",
              "                }\n",
              "            </style>\n",
              "            "
            ]
          },
          "metadata": {}
        },
        {
          "output_type": "error",
          "ename": "IndexError",
          "evalue": "ignored",
          "traceback": [
            "\u001b[0;31m---------------------------------------------------------------------------\u001b[0m",
            "\u001b[0;31mIndexError\u001b[0m                                Traceback (most recent call last)",
            "\u001b[0;32m<ipython-input-6-40fa88a72698>\u001b[0m in \u001b[0;36m<cell line: 2>\u001b[0;34m()\u001b[0m\n\u001b[1;32m      1\u001b[0m \u001b[0ml\u001b[0m \u001b[0;34m=\u001b[0m \u001b[0;34m[\u001b[0m\u001b[0;36m1\u001b[0m\u001b[0;34m,\u001b[0m\u001b[0;36m2\u001b[0m\u001b[0;34m,\u001b[0m\u001b[0;36m3\u001b[0m\u001b[0;34m,\u001b[0m\u001b[0;36m4\u001b[0m\u001b[0;34m]\u001b[0m\u001b[0;34m\u001b[0m\u001b[0;34m\u001b[0m\u001b[0m\n\u001b[0;32m----> 2\u001b[0;31m \u001b[0ml\u001b[0m\u001b[0;34m[\u001b[0m\u001b[0;36m10\u001b[0m\u001b[0;34m]\u001b[0m\u001b[0;34m\u001b[0m\u001b[0;34m\u001b[0m\u001b[0m\n\u001b[0m",
            "\u001b[0;31mIndexError\u001b[0m: list index out of range"
          ]
        }
      ]
    },
    {
      "cell_type": "code",
      "source": [
        "nl[2]"
      ],
      "metadata": {
        "colab": {
          "base_uri": "https://localhost:8080/",
          "height": 212
        },
        "id": "xgIfZ0KX3lbU",
        "outputId": "5e0a2c73-5f93-4774-c2e0-125ec37247d6"
      },
      "execution_count": null,
      "outputs": [
        {
          "output_type": "stream",
          "name": "stderr",
          "text": [
            "/usr/local/lib/python3.10/dist-packages/ipykernel/ipkernel.py:283: DeprecationWarning: `should_run_async` will not call `transform_cell` automatically in the future. Please pass the result to `transformed_cell` argument and any exception that happen during thetransform in `preprocessing_exc_tuple` in IPython 7.17 and above.\n"
          ]
        },
        {
          "output_type": "display_data",
          "data": {
            "text/plain": [
              "<IPython.core.display.HTML object>"
            ],
            "text/html": [
              "\n",
              "            <style>\n",
              "                .geemap-dark {\n",
              "                    --jp-widgets-color: white;\n",
              "                    --jp-widgets-label-color: white;\n",
              "                    --jp-ui-font-color1: white;\n",
              "                    --jp-layout-color2: #454545;\n",
              "                    background-color: #383838;\n",
              "                }\n",
              "                    \n",
              "                .geemap-dark .jupyter-button {\n",
              "                    --jp-layout-color3: #383838;\n",
              "                }\n",
              "                \n",
              "                .geemap-colab {\n",
              "                    background-color: var(--colab-primary-surface-color, white);\n",
              "                }\n",
              "                    \n",
              "                .geemap-colab .jupyter-button {\n",
              "                    --jp-layout-color3: var(--colab-primary-surface-color, white);\n",
              "                }\n",
              "            </style>\n",
              "            "
            ]
          },
          "metadata": {}
        },
        {
          "output_type": "error",
          "ename": "NameError",
          "evalue": "ignored",
          "traceback": [
            "\u001b[0;31m---------------------------------------------------------------------------\u001b[0m",
            "\u001b[0;31mNameError\u001b[0m                                 Traceback (most recent call last)",
            "\u001b[0;32m<ipython-input-7-58305d2308e5>\u001b[0m in \u001b[0;36m<cell line: 1>\u001b[0;34m()\u001b[0m\n\u001b[0;32m----> 1\u001b[0;31m \u001b[0mnl\u001b[0m\u001b[0;34m[\u001b[0m\u001b[0;36m2\u001b[0m\u001b[0;34m]\u001b[0m\u001b[0;34m\u001b[0m\u001b[0;34m\u001b[0m\u001b[0m\n\u001b[0m",
            "\u001b[0;31mNameError\u001b[0m: name 'nl' is not defined"
          ]
        }
      ]
    },
    {
      "cell_type": "markdown",
      "source": [
        "### Itertools:\n",
        "Count\n",
        "\n",
        "Cycle\n",
        "\n",
        "Repeat\n",
        "\n",
        "Accumulate\n",
        "\n",
        "Chain\n",
        "\n",
        "dropwhile\n",
        "\n",
        "groupby"
      ],
      "metadata": {
        "id": "x5gXBFUgjIYM"
      }
    },
    {
      "cell_type": "code",
      "source": [
        "import itertools\n",
        "for i in itertools.count(1,3):\n",
        "  print(i)\n",
        "  if i > 10:\n",
        "    break"
      ],
      "metadata": {
        "id": "jW5QRE_g3ld7",
        "colab": {
          "base_uri": "https://localhost:8080/"
        },
        "outputId": "4f1caa49-c5e3-4299-abb6-09895eb7c946"
      },
      "execution_count": null,
      "outputs": [
        {
          "output_type": "stream",
          "name": "stdout",
          "text": [
            "1\n",
            "4\n",
            "7\n",
            "10\n",
            "13\n"
          ]
        }
      ]
    },
    {
      "cell_type": "code",
      "source": [
        "count = 0\n",
        "col = [\"red\", \"orange\", \"yellow\", \"green\"]\n",
        "for i in itertools.cycle(col):\n",
        "  print(i)\n",
        "  count +=1\n",
        "  if count > 10:\n",
        "    break"
      ],
      "metadata": {
        "id": "zVMoxnZOD3oc",
        "colab": {
          "base_uri": "https://localhost:8080/"
        },
        "outputId": "18a81063-ac91-4045-cbf8-6e2a5fdf71b4"
      },
      "execution_count": null,
      "outputs": [
        {
          "output_type": "stream",
          "name": "stdout",
          "text": [
            "red\n",
            "orange\n",
            "yellow\n",
            "green\n",
            "red\n",
            "orange\n",
            "yellow\n",
            "green\n",
            "red\n",
            "orange\n",
            "yellow\n"
          ]
        }
      ]
    },
    {
      "cell_type": "code",
      "source": [
        "food = \"spam\"\n",
        "for i in itertools.repeat(food, 5):\n",
        "\tprint(i)"
      ],
      "metadata": {
        "id": "NrzuIX_lD3rH",
        "colab": {
          "base_uri": "https://localhost:8080/"
        },
        "outputId": "eb48b33b-b8de-47f8-ab61-b64430513e9a"
      },
      "execution_count": null,
      "outputs": [
        {
          "output_type": "stream",
          "name": "stdout",
          "text": [
            "spam\n",
            "spam\n",
            "spam\n",
            "spam\n",
            "spam\n"
          ]
        }
      ]
    },
    {
      "cell_type": "code",
      "source": [
        "import operator\n",
        "n = input(\"Enter a num :\")\n",
        "data = range(1, int(n))\n",
        "result = itertools.accumulate(data, operator.add)\n",
        "print(type(result))\n",
        "for each in result:\n",
        "  print(each)"
      ],
      "metadata": {
        "colab": {
          "base_uri": "https://localhost:8080/"
        },
        "id": "Cv3Hqw7Ik7AW",
        "outputId": "eb5a98c6-c62e-45ef-c360-1d2db913cf90"
      },
      "execution_count": null,
      "outputs": [
        {
          "output_type": "stream",
          "name": "stdout",
          "text": [
            "Enter a num :5\n",
            "<class 'itertools.accumulate'>\n",
            "1\n",
            "3\n",
            "6\n",
            "10\n"
          ]
        }
      ]
    },
    {
      "cell_type": "code",
      "source": [
        "#merge list:\n",
        "original_list = [[2,4,3],[1,5,6], [9], [7,9,0]]\n",
        "new_merged_list = list(itertools.chain(*original_list))\n",
        "print(new_merged_list)"
      ],
      "metadata": {
        "colab": {
          "base_uri": "https://localhost:8080/"
        },
        "id": "6ME2P-HAk7IJ",
        "outputId": "cc072844-e6c2-4dd7-879f-31fe61b97e04"
      },
      "execution_count": null,
      "outputs": [
        {
          "output_type": "stream",
          "name": "stdout",
          "text": [
            "[2, 4, 3, 1, 5, 6, 9, 7, 9, 0]\n"
          ]
        }
      ]
    },
    {
      "cell_type": "code",
      "source": [
        "import itertools\n",
        "data = [6,2,33,99,0]\n",
        "dat = [1,2,3,45,5]\n",
        "result = set(itertools.chain(data, dat))\n",
        "print (result)"
      ],
      "metadata": {
        "colab": {
          "base_uri": "https://localhost:8080/"
        },
        "id": "Q_VQHRzxk7NG",
        "outputId": "27b447ad-3dae-402e-e0e1-cd70421cf5e6"
      },
      "execution_count": null,
      "outputs": [
        {
          "output_type": "stream",
          "name": "stdout",
          "text": [
            "{0, 33, 2, 99, 1, 3, 6, 5, 45}\n"
          ]
        }
      ]
    },
    {
      "cell_type": "code",
      "source": [
        "data = [1,2,3,4,2,6, 5,7,8,1,2,3]\n",
        "result = itertools.dropwhile(lambda x: x<5, data)\n",
        "for each in result:\n",
        "  print(each)"
      ],
      "metadata": {
        "colab": {
          "base_uri": "https://localhost:8080/"
        },
        "id": "7r-kmsSAk7Qi",
        "outputId": "31a89116-e4a5-44ab-f400-6c21675f85af"
      },
      "execution_count": null,
      "outputs": [
        {
          "output_type": "stream",
          "name": "stdout",
          "text": [
            "6\n",
            "5\n",
            "7\n",
            "8\n",
            "1\n",
            "2\n",
            "3\n"
          ]
        }
      ]
    },
    {
      "cell_type": "code",
      "source": [
        "sorted_data= sorted(data)\n",
        "print(\"Sorted Data ::\", sorted_data)\n",
        "keys=[]\n",
        "groups=[]\n",
        "for k,g in itertools.groupby(sorted_data):\n",
        "  keys.append(k)\n",
        "  groups.append(list(g))\n",
        "cnt = [len(i) for i in groups]\n",
        "zipped = dict(zip(keys, cnt))\n",
        "print(\"Zipped Dict :: {}\".format(zipped))\n"
      ],
      "metadata": {
        "colab": {
          "base_uri": "https://localhost:8080/"
        },
        "id": "N_yhZLSck7TX",
        "outputId": "7c89f22e-c96f-4f6d-cc8b-df50e1f7eabb"
      },
      "execution_count": null,
      "outputs": [
        {
          "output_type": "stream",
          "name": "stdout",
          "text": [
            "Sorted Data :: [1, 1, 2, 2, 2, 3, 3, 4, 5, 6, 7, 8]\n",
            "Zipped Dict :: {1: 2, 2: 3, 3: 2, 4: 1, 5: 1, 6: 1, 7: 1, 8: 1}\n"
          ]
        }
      ]
    },
    {
      "cell_type": "code",
      "source": [
        "data = [(2,6), (8,4), (7,3)]\n",
        "result = itertools.starmap(operator.mul, data)\n",
        "for each in result:\n",
        "    print(each)"
      ],
      "metadata": {
        "colab": {
          "base_uri": "https://localhost:8080/"
        },
        "id": "ycmQ8dzLk7Wp",
        "outputId": "926b9f84-4942-40d1-b6e4-94394524cc3d"
      },
      "execution_count": null,
      "outputs": [
        {
          "output_type": "stream",
          "name": "stdout",
          "text": [
            "12\n",
            "32\n",
            "21\n"
          ]
        }
      ]
    },
    {
      "cell_type": "code",
      "source": [
        "list1 = [1, 2, 3, 4]\n",
        "list2 = [1, 2]\n",
        "print(list(set(list1) - set(list2)))"
      ],
      "metadata": {
        "colab": {
          "base_uri": "https://localhost:8080/"
        },
        "id": "BvNamleRk7ZU",
        "outputId": "46e2b061-d27a-4a2b-9f8c-866fb7091e5c"
      },
      "execution_count": null,
      "outputs": [
        {
          "output_type": "stream",
          "name": "stdout",
          "text": [
            "[3, 4]\n"
          ]
        }
      ]
    },
    {
      "cell_type": "code",
      "source": [
        "#circular list\n",
        "\n",
        "list1 = [10, 10, 0, 0, 10]\n",
        "list2 = [10, 10, 10, 0, 0]\n",
        "list3 = [1, 10, 10, 0, 0]\n",
        "\n",
        "print('Compare list1 and list2')\n",
        "print(' '.join(map(str, list2)) in ' '.join(map(str, list1 * 2)))\n",
        "print('Compare list1 and list3')\n",
        "print(' '.join(map(str, list3)) in ' '.join(map(str, list1 * 2)))"
      ],
      "metadata": {
        "colab": {
          "base_uri": "https://localhost:8080/"
        },
        "id": "xIg1WmLUk7nm",
        "outputId": "204bfb77-b1c2-4cbc-ce3b-9485c72cde45"
      },
      "execution_count": null,
      "outputs": [
        {
          "output_type": "stream",
          "name": "stdout",
          "text": [
            "Compare list1 and list2\n",
            "True\n",
            "Compare list1 and list3\n",
            "True\n"
          ]
        }
      ]
    },
    {
      "cell_type": "code",
      "source": [
        "print(' '.join(map(str, list2)))\n"
      ],
      "metadata": {
        "colab": {
          "base_uri": "https://localhost:8080/"
        },
        "id": "1ZfWYnFFk7qe",
        "outputId": "83f3e00d-aad1-4c30-c2a3-a4075a063e25"
      },
      "execution_count": null,
      "outputs": [
        {
          "output_type": "stream",
          "name": "stdout",
          "text": [
            "10 10 10 0 0\n"
          ]
        }
      ]
    },
    {
      "cell_type": "code",
      "source": [
        "#ENUMERATE:\n",
        "\n",
        "str1=\"w3resource\"\n",
        "for index, char in enumerate(str1):\n",
        "    print(\"At index:\", index, \"character is \", char)"
      ],
      "metadata": {
        "id": "PdwjdLY3D8q8",
        "colab": {
          "base_uri": "https://localhost:8080/"
        },
        "outputId": "16d3b710-1bea-49e8-9014-6319a5ddaecb"
      },
      "execution_count": null,
      "outputs": [
        {
          "output_type": "stream",
          "name": "stdout",
          "text": [
            "At index: 0 character is  w\n",
            "At index: 1 character is  3\n",
            "At index: 2 character is  r\n",
            "At index: 3 character is  e\n",
            "At index: 4 character is  s\n",
            "At index: 5 character is  o\n",
            "At index: 6 character is  u\n",
            "At index: 7 character is  r\n",
            "At index: 8 character is  c\n",
            "At index: 9 character is  e\n"
          ]
        }
      ]
    },
    {
      "cell_type": "code",
      "source": [
        "my_list = ['apple', 'banana', 'apple', 'grapes', 'pear']\n",
        "counter_list = list(enumerate(my_list,1))\n",
        "print(counter_list)"
      ],
      "metadata": {
        "colab": {
          "base_uri": "https://localhost:8080/"
        },
        "id": "VN13-5h4rfjm",
        "outputId": "1e6693b0-b50f-4d35-ae9d-4813ec84680a"
      },
      "execution_count": null,
      "outputs": [
        {
          "output_type": "stream",
          "name": "stdout",
          "text": [
            "[(1, 'apple'), (2, 'banana'), (3, 'apple'), (4, 'grapes'), (5, 'pear')]\n"
          ]
        }
      ]
    },
    {
      "cell_type": "code",
      "source": [
        "my_list = ['apple', 'banana', 'grapes', 'pear']\n",
        "for c, value in enumerate(my_list,1):\n",
        "    print(c, value)"
      ],
      "metadata": {
        "colab": {
          "base_uri": "https://localhost:8080/"
        },
        "id": "oV1G0rrerfnx",
        "outputId": "4e4040d3-2ac6-47ed-f13e-5cf4d8ad8326"
      },
      "execution_count": null,
      "outputs": [
        {
          "output_type": "stream",
          "name": "stdout",
          "text": [
            "1 apple\n",
            "2 banana\n",
            "3 grapes\n",
            "4 pear\n"
          ]
        }
      ]
    },
    {
      "cell_type": "code",
      "source": [
        "num = [7,8,120,25,44,20,27]\n",
        "mul_of_twos = [x for x in num if x%2!=0]\n",
        "print(mul_of_twos)"
      ],
      "metadata": {
        "id": "XPt8TH5Irfrs",
        "colab": {
          "base_uri": "https://localhost:8080/"
        },
        "outputId": "a1db43e0-e92a-42d8-f6a3-3636bec48155"
      },
      "execution_count": null,
      "outputs": [
        {
          "output_type": "stream",
          "name": "stdout",
          "text": [
            "[7, 25, 27]\n"
          ]
        }
      ]
    },
    {
      "cell_type": "code",
      "source": [
        "dict1 = {'Age': 7, 'Name':'Zara'}\n",
        "dict1.items()"
      ],
      "metadata": {
        "id": "kTSuqcYRrf75",
        "colab": {
          "base_uri": "https://localhost:8080/"
        },
        "outputId": "fc593b4e-f5c3-4b3a-90ae-b46cb65fa00d"
      },
      "execution_count": 1,
      "outputs": [
        {
          "output_type": "execute_result",
          "data": {
            "text/plain": [
              "dict_items([('Age', 7), ('Name', 'Zara')])"
            ]
          },
          "metadata": {},
          "execution_count": 1
        }
      ]
    },
    {
      "cell_type": "code",
      "source": [
        "#ordered dict\n",
        "test_dict = dict( val1 = \"hi\", val2 = \"bye\", val3 = \"huh?\", val4 = \"what....\")\n",
        "test_tuple = ('val1', 'val2', 'val3', 'val4')\n",
        "for key in test_tuple:\n",
        "  print(test_dict[key])\n"
      ],
      "metadata": {
        "id": "JOkb30nfrf_n",
        "colab": {
          "base_uri": "https://localhost:8080/"
        },
        "outputId": "c0b95564-c248-48a8-b681-871a61aa5849"
      },
      "execution_count": 2,
      "outputs": [
        {
          "output_type": "stream",
          "name": "stdout",
          "text": [
            "hi\n",
            "bye\n",
            "huh?\n",
            "what....\n"
          ]
        }
      ]
    },
    {
      "cell_type": "code",
      "source": [],
      "metadata": {
        "id": "EDy6fWWDrgDL"
      },
      "execution_count": null,
      "outputs": []
    },
    {
      "cell_type": "code",
      "source": [
        "#Checking if two words are anagrams\n",
        "from collections import Counter\n",
        "def is_anagram(str1, str2):\n",
        "     return Counter(str1) == Counter(str2)\n",
        "print(is_anagram('geek', 'eegk'))\n",
        "print(is_anagram('geek', 'peek'))"
      ],
      "metadata": {
        "colab": {
          "base_uri": "https://localhost:8080/"
        },
        "id": "BaVZ62V8D3ta",
        "outputId": "d697baba-35e5-406f-b941-7fe26f3db406"
      },
      "execution_count": null,
      "outputs": [
        {
          "output_type": "stream",
          "name": "stdout",
          "text": [
            "True\n",
            "False\n"
          ]
        }
      ]
    },
    {
      "cell_type": "code",
      "source": [],
      "metadata": {
        "id": "cpfboc33D3vl"
      },
      "execution_count": null,
      "outputs": []
    },
    {
      "cell_type": "code",
      "source": [],
      "metadata": {
        "id": "OqFSLkF7D3y7"
      },
      "execution_count": null,
      "outputs": []
    }
  ]
}