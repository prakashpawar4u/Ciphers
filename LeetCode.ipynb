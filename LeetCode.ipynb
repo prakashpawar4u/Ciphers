{
  "cells": [
    {
      "cell_type": "markdown",
      "metadata": {
        "colab_type": "text",
        "id": "view-in-github"
      },
      "source": [
        "<a href=\"https://colab.research.google.com/github/prakashpawar4u/Ciphers/blob/main/LeetCode.ipynb\" target=\"_parent\"><img src=\"https://colab.research.google.com/assets/colab-badge.svg\" alt=\"Open In Colab\"/></a>"
      ]
    },
    {
      "cell_type": "code",
      "execution_count": null,
      "metadata": {},
      "outputs": [],
      "source": [
        "#Q1 TwoSum Problem\n",
        "class Solution(object):\n",
        "    def twoSum(self, nums, target):\n",
        "        \"\"\"\n",
        "        :type nums: List[int]\n",
        "        :type target: int\n",
        "        :rtype: List[int]\n",
        "        \"\"\"\n",
        "        hashMap = {}\n",
        "        for i, n in enumerate(nums):\n",
        "            diff = target - n\n",
        "            if diff in hashMap:\n",
        "                return (hashMap[diff], i)\n",
        "            hashMap[n] = i\n",
        "        return\n",
        "\n",
        "sObj = Solution()\n",
        "op = sObj.twoSum([2,8,11,15,7], 9)\n",
        "print(op)"
      ]
    },
    {
      "cell_type": "code",
      "execution_count": null,
      "metadata": {},
      "outputs": [],
      "source": [
        "\n",
        "#Q2 : 121. Best Time to Buy and Sell Stock\n",
        "class Solution(object):\n",
        "    def maxProfit(self, prices):\n",
        "        \"\"\"\n",
        "        :type prices: List[int]\n",
        "        :rtype: int\n",
        "        \"\"\"\n",
        "        l, r = 0,1 # left = Buy, right = Sell\n",
        "        maxP = 0\n",
        "        while r < len(prices):\n",
        "            if prices[l] < prices[r]:\n",
        "                profit = prices[r] - prices[l]\n",
        "                maxP = max(maxP, profit)\n",
        "            else:\n",
        "                l = r\n",
        "            r += 1\n",
        "        return maxP\n",
        "\n",
        "sObj = Solution()\n",
        "op = sObj.maxProfit([7,1,5,3,9,4])\n",
        "print(op)"
      ]
    },
    {
      "cell_type": "code",
      "execution_count": null,
      "metadata": {},
      "outputs": [],
      "source": [
        "# Q3 Duplicate in an array :\n",
        "\n",
        "class Solution(object):\n",
        "    def containsDuplicate(self, nums):\n",
        "        \"\"\"\n",
        "        :type nums: List[int]\n",
        "        :rtype: bool\n",
        "        \"\"\"\n",
        "        hashSet = set()\n",
        "        for i in nums:\n",
        "            if i in hashSet:\n",
        "                return True\n",
        "            hashSet.add(i)\n",
        "        return False\n",
        "\n",
        "sObj = Solution()\n",
        "op = sObj.containsDuplicate([7,1,5,3,7,4])\n",
        "print(op)"
      ]
    },
    {
      "cell_type": "code",
      "execution_count": null,
      "metadata": {
        "id": "Ncw1qDW_sn0F"
      },
      "outputs": [
        {
          "name": "stdout",
          "output_type": "stream",
          "text": [
            "Final Res:: [24, 12, 8, 6]\n"
          ]
        },
        {
          "data": {
            "text/plain": [
              "[24, 12, 8, 6]"
            ]
          },
          "metadata": {},
          "output_type": "display_data"
        }
      ],
      "source": [
        "#Q4 Product Except self\n",
        "class Solution:\n",
        "    #def productExceptSelf(self, nums: List[int]) -> List[int]:\n",
        "    def productExceptSelf(self, nums):\n",
        "        res = [1] * (len(nums))\n",
        "\n",
        "        prefix = 1\n",
        "        for i in range(len(nums)):\n",
        "            res[i] = prefix\n",
        "            prefix *= nums[i]\n",
        "    \n",
        "        postfix = 1\n",
        "        for i in range(len(nums) -1, -1, -1):\n",
        "            res[i] *= postfix\n",
        "            postfix *= nums[i]\n",
        "        print(\"Final Res::\", res)\n",
        "        return res\n",
        "      \n",
        "        print(\"Final : \",prefix)\n",
        "\n",
        "\n",
        "sObj = Solution()\n",
        "sObj.productExceptSelf([1,2,3,4])\n"
      ]
    },
    {
      "cell_type": "code",
      "execution_count": null,
      "metadata": {
        "colab": {
          "base_uri": "https://localhost:8080/"
        },
        "id": "9Hhx6gV5JreK",
        "outputId": "17fb9bfa-ab75-4366-e478-ee49515f4b75"
      },
      "outputs": [
        {
          "name": "stdout",
          "output_type": "stream",
          "text": [
            "3\n",
            "4\n",
            "[114, 160, 60, 27]\n",
            "[74, 97, 73, 14]\n",
            "[119, 157, 112, 23]\n"
          ]
        }
      ],
      "source": [
        "# Program to multiply two matrices using nested loops\n",
        "\n",
        "# 3x3 matrix\n",
        "X = [[12,7,3],\n",
        "    [4 ,5,6],\n",
        "    [7 ,8,9]]\n",
        "# 3x4 matrix\n",
        "Y = [[5,8,1,2],\n",
        "    [6,7,3,0],\n",
        "    [4,5,9,1]]\n",
        "\n",
        "# result will be 3x4(3 rows from first Matrix & 4 coloumns from second Matrix)\n",
        "result = [[0,0,0,0],\n",
        "         [0,0,0,0],\n",
        "         [0,0,0,0]]\n",
        "\n",
        "\n",
        "print(len(X))\n",
        "print(len(Y[0]))\n",
        "\n",
        "#iterate through rows of X\n",
        "for i in range(len(X)):\n",
        "  #iterate through Columns of Y\n",
        "  for j in range(len(Y[0])):\n",
        "    #iterate through rows of Y\n",
        "    for k in range(len(Y)):\n",
        "      #print(f\"Each Item :: {X[i][k] * Y[k][j]}\")\n",
        "      result[i][j] += X[i][k] * Y[k][j]\n",
        "\n",
        "\n",
        "for p in result:\n",
        "  print(p)\n"
      ]
    },
    {
      "cell_type": "code",
      "execution_count": null,
      "metadata": {
        "colab": {
          "base_uri": "https://localhost:8080/"
        },
        "id": "RnZ2L1pzt9yW",
        "outputId": "a69ab7b6-2d78-463d-8a05-a1f54786ba60"
      },
      "outputs": [
        {
          "name": "stdout",
          "output_type": "stream",
          "text": [
            "The square root of 18 is approximately 4.242640687119335\n"
          ]
        }
      ],
      "source": [
        "#square root with sqrt method:\n",
        "def sqrt_newton_raphson(number, epsilon=1e-6, max_iterations=100):\n",
        "    if number < 0:\n",
        "        raise ValueError(\"Cannot calculate the square root of a negative number\")\n",
        "\n",
        "    guess = number / 2.0  # Initial guess\n",
        "    for _ in range(max_iterations):\n",
        "        next_guess = 0.5 * (guess + number / guess)\n",
        "        if abs(next_guess - guess) < epsilon:\n",
        "            return next_guess  # Converged to an acceptable approximation\n",
        "        guess = next_guess\n",
        "\n",
        "    return guess  # Return the best approximation after max_iterations\n",
        "\n",
        "# Example usage\n",
        "number = 18  # Change this to the number for which you want to calculate the square root\n",
        "result = sqrt_newton_raphson(number)\n",
        "print(f\"The square root of {number} is approximately {result}\")"
      ]
    }
  ],
  "metadata": {
    "colab": {
      "authorship_tag": "ABX9TyMnJaCj3Nec+YsG84QWGx1x",
      "include_colab_link": true,
      "provenance": []
    },
    "kernelspec": {
      "display_name": "Python 3",
      "name": "python3"
    },
    "language_info": {
      "codemirror_mode": {
        "name": "ipython",
        "version": 3
      },
      "file_extension": ".py",
      "mimetype": "text/x-python",
      "name": "python",
      "nbconvert_exporter": "python",
      "pygments_lexer": "ipython3",
      "version": "3.11.2"
    }
  },
  "nbformat": 4,
  "nbformat_minor": 0
}
