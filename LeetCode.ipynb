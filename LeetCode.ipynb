{
  "nbformat": 4,
  "nbformat_minor": 0,
  "metadata": {
    "colab": {
      "provenance": [],
      "authorship_tag": "ABX9TyOvwGxioRRU6r9Wb8cOYmv5",
      "include_colab_link": true
    },
    "kernelspec": {
      "name": "python3",
      "display_name": "Python 3"
    },
    "language_info": {
      "name": "python"
    }
  },
  "cells": [
    {
      "cell_type": "markdown",
      "metadata": {
        "id": "view-in-github",
        "colab_type": "text"
      },
      "source": [
        "<a href=\"https://colab.research.google.com/github/prakashpawar4u/Ciphers/blob/main/LeetCode.ipynb\" target=\"_parent\"><img src=\"https://colab.research.google.com/assets/colab-badge.svg\" alt=\"Open In Colab\"/></a>"
      ]
    },
    {
      "cell_type": "code",
      "execution_count": null,
      "metadata": {
        "id": "pKdGCVrg6sdd"
      },
      "outputs": [],
      "source": [
        "#Q1 TwoSum Problem\n",
        "class Solution(object):\n",
        "    def twoSum(self, nums, target):\n",
        "        \"\"\"\n",
        "        :type nums: List[int]\n",
        "        :type target: int\n",
        "        :rtype: List[int]\n",
        "        \"\"\"\n",
        "        hashMap = {}\n",
        "        for i, n in enumerate(nums):\n",
        "            diff = target - n\n",
        "            if diff in hashMap:\n",
        "                return (hashMap[diff], i)\n",
        "            hashMap[n] = i\n",
        "        return\n",
        "\n",
        "sObj = Solution()\n",
        "op = sObj.twoSum([2,8,11,15,7], 9)\n",
        "print(op)"
      ]
    },
    {
      "cell_type": "code",
      "source": [
        "#Q2 : 121. Best Time to Buy and Sell Stock\n",
        "class Solution(object):\n",
        "    def maxProfit(self, prices):\n",
        "        \"\"\"\n",
        "        :type prices: List[int]\n",
        "        :rtype: int\n",
        "        \"\"\"\n",
        "        l, r = 0,1 # left = Buy, right = Sell\n",
        "        maxP = 0\n",
        "        while r < len(prices):\n",
        "            if prices[l] < prices[r]:\n",
        "                profit = prices[r] - prices[l]\n",
        "                maxP = max(maxP, profit)\n",
        "            else:\n",
        "                l = r\n",
        "            r += 1\n",
        "        return maxP\n",
        "\n",
        "sObj = Solution()\n",
        "op = sObj.maxProfit([7,1,5,3,9,4])\n",
        "print(op)"
      ],
      "metadata": {
        "id": "yf9Mj2fm6xJW"
      },
      "execution_count": null,
      "outputs": []
    },
    {
      "cell_type": "code",
      "source": [
        "# Q3 Duplicate in an array :\n",
        "\n",
        "class Solution(object):\n",
        "    def containsDuplicate(self, nums):\n",
        "        \"\"\"\n",
        "        :type nums: List[int]\n",
        "        :rtype: bool\n",
        "        \"\"\"\n",
        "        hashSet = set()\n",
        "        for i in nums:\n",
        "            if i in hashSet:\n",
        "                return True\n",
        "            hashSet.add(i)\n",
        "        return False\n",
        "\n",
        "sObj = Solution()\n",
        "op = sObj.containsDuplicate([7,1,5,3,7,4])\n",
        "print(op)"
      ],
      "metadata": {
        "id": "zeZuA4Mr63o8"
      },
      "execution_count": null,
      "outputs": []
    },
    {
      "cell_type": "code",
      "source": [
        "#Q4 Product Except self\n",
        "class Solution:\n",
        "    #def productExceptSelf(self, nums: List[int]) -> List[int]:\n",
        "    def productExceptSelf(self, nums):\n",
        "        res = [1] * (len(nums))\n",
        "\n",
        "        prefix = 1\n",
        "        for i in range(len(nums)):\n",
        "            res[i] = prefix\n",
        "            prefix *= nums[i]\n",
        "\n",
        "        postfix = 1\n",
        "        for i in range(len(nums) -1, -1, -1):\n",
        "            res[i] *= postfix\n",
        "            postfix *= nums[i]\n",
        "        print(\"Final Res::\", res)\n",
        "        return res\n",
        "\n",
        "        print(\"Final : \",prefix)\n",
        "\n",
        "\n",
        "sObj = Solution()\n",
        "sObj.productExceptSelf([1,2,3,4])"
      ],
      "metadata": {
        "id": "u4Dy3VlC67_S"
      },
      "execution_count": null,
      "outputs": []
    }
  ]
}