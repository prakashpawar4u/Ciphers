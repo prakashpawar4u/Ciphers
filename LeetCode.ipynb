{
  "cells": [
    {
      "cell_type": "markdown",
      "metadata": {
        "colab_type": "text",
        "id": "view-in-github"
      },
      "source": [
        "<a href=\"https://colab.research.google.com/github/prakashpawar4u/Ciphers/blob/main/LeetCode.ipynb\" target=\"_parent\"><img src=\"https://colab.research.google.com/assets/colab-badge.svg\" alt=\"Open In Colab\"/></a>"
      ]
    },
    {
      "cell_type": "code",
      "execution_count": null,
      "metadata": {
        "id": "pKdGCVrg6sdd"
      },
      "outputs": [],
      "source": [
        "#Q1 TwoSum Problem\n",
        "class Solution(object):\n",
        "    def twoSum(self, nums, target):\n",
        "        \"\"\"\n",
        "        :type nums: List[int]\n",
        "        :type target: int\n",
        "        :rtype: List[int]\n",
        "        \"\"\"\n",
        "        hashMap = {}\n",
        "        for i, n in enumerate(nums):\n",
        "            diff = target - n\n",
        "            if diff in hashMap:\n",
        "                return (hashMap[diff], i)\n",
        "            hashMap[n] = i\n",
        "        return\n",
        "\n",
        "sObj = Solution()\n",
        "op = sObj.twoSum([2,8,11,15,7], 9)\n",
        "print(op)"
      ]
    },
    {
      "cell_type": "code",
      "execution_count": null,
      "metadata": {
        "id": "yf9Mj2fm6xJW"
      },
      "outputs": [],
      "source": [
        "#Q2 : 121. Best Time to Buy and Sell Stock\n",
        "class Solution(object):\n",
        "    def maxProfit(self, prices):\n",
        "        \"\"\"\n",
        "        :type prices: List[int]\n",
        "        :rtype: int\n",
        "        \"\"\"\n",
        "        l, r = 0,1 # left = Buy, right = Sell\n",
        "        maxP = 0\n",
        "        while r < len(prices):\n",
        "            if prices[l] < prices[r]:\n",
        "                profit = prices[r] - prices[l]\n",
        "                maxP = max(maxP, profit)\n",
        "            else:\n",
        "                l = r\n",
        "            r += 1\n",
        "        return maxP\n",
        "\n",
        "sObj = Solution()\n",
        "op = sObj.maxProfit([7,1,5,3,9,4])\n",
        "print(op)"
      ]
    },
    {
      "cell_type": "code",
      "execution_count": null,
      "metadata": {
        "id": "zeZuA4Mr63o8"
      },
      "outputs": [],
      "source": [
        "# Q3 Duplicate in an array :\n",
        "\n",
        "class Solution(object):\n",
        "    def containsDuplicate(self, nums):\n",
        "        \"\"\"\n",
        "        :type nums: List[int]\n",
        "        :rtype: bool\n",
        "        \"\"\"\n",
        "        hashSet = set()\n",
        "        for i in nums:\n",
        "            if i in hashSet:\n",
        "                return True\n",
        "            hashSet.add(i)\n",
        "        return False\n",
        "\n",
        "sObj = Solution()\n",
        "op = sObj.containsDuplicate([7,1,5,3,7,4])\n",
        "print(op)"
      ]
    },
    {
      "cell_type": "code",
      "execution_count": null,
      "metadata": {
        "id": "u4Dy3VlC67_S"
      },
      "outputs": [],
      "source": [
        "#Q4 Product Except self\n",
        "class Solution:\n",
        "    #def productExceptSelf(self, nums: List[int]) -> List[int]:\n",
        "    def productExceptSelf(self, nums):\n",
        "        res = [1] * (len(nums))\n",
        "\n",
        "        prefix = 1\n",
        "        for i in range(len(nums)):\n",
        "            res[i] = prefix\n",
        "            prefix *= nums[i]\n",
        "\n",
        "        postfix = 1\n",
        "        for i in range(len(nums) -1, -1, -1):\n",
        "            res[i] *= postfix\n",
        "            postfix *= nums[i]\n",
        "        print(\"Final Res::\", res)\n",
        "        return res\n",
        "\n",
        "        print(\"Final : \",prefix)\n",
        "\n",
        "\n",
        "sObj = Solution()\n",
        "sObj.productExceptSelf([1,2,3,4])"
      ]
    },
    {
      "cell_type": "code",
      "execution_count": 3,
      "metadata": {},
      "outputs": [
        {
          "data": {
            "text/plain": [
              "6"
            ]
          },
          "execution_count": 3,
          "metadata": {},
          "output_type": "execute_result"
        }
      ],
      "source": [
        "#Q5 Maximum of subbaray\n",
        "class Solution:\n",
        "    #def productExceptSelf(self, nums: List[int]) -> List[int]:\n",
        "    def maximumSubarray(self, nums):\n",
        "        maxSub = nums[0]\n",
        "        curSum = 0\n",
        "\n",
        "        for n in nums:\n",
        "            if curSum < 0:\n",
        "                curSum = 0\n",
        "            curSum +=n \n",
        "            maxSub = max(maxSub, curSum)\n",
        "        return maxSub\n",
        "        \n",
        "\n",
        "sObj = Solution()\n",
        "sObj.maximumSubarray([-2,1,-3,4,-1,2,1,-5,4])"
      ]
    },
    {
      "cell_type": "code",
      "execution_count": 6,
      "metadata": {},
      "outputs": [
        {
          "data": {
            "text/plain": [
              "6"
            ]
          },
          "execution_count": 6,
          "metadata": {},
          "output_type": "execute_result"
        }
      ],
      "source": [
        "#Q6\n",
        "\n",
        "class Solution:\n",
        "    def maxProduct(self, nums):# List[int]) -> int:\n",
        "        res = max(nums)\n",
        "        curMin, curMax = 1,1\n",
        "        \n",
        "        for n in nums:\n",
        "            if n == 0:\n",
        "                curMin, curMax = 1,1\n",
        "                continue\n",
        "            tmp = curMax * n\n",
        "            curMax = max(n * curMax, n * curMin, n)\n",
        "            curMin = min(tmp, n * curMin, n)\n",
        "            res = max(res, curMax, curMin)\n",
        "        return res\n",
        "sObj = Solution()\n",
        "sObj.maxProduct([2,3,-2,4])"
      ]
    },
    {
      "cell_type": "code",
      "execution_count": null,
      "metadata": {},
      "outputs": [],
      "source": []
    }
  ],
  "metadata": {
    "colab": {
      "authorship_tag": "ABX9TyOvwGxioRRU6r9Wb8cOYmv5",
      "include_colab_link": true,
      "provenance": []
    },
    "kernelspec": {
      "display_name": "Python 3",
      "name": "python3"
    },
    "language_info": {
      "codemirror_mode": {
        "name": "ipython",
        "version": 3
      },
      "file_extension": ".py",
      "mimetype": "text/x-python",
      "name": "python",
      "nbconvert_exporter": "python",
      "pygments_lexer": "ipython3",
      "version": "3.11.2"
    }
  },
  "nbformat": 4,
  "nbformat_minor": 0
}
